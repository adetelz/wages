{
 "cells": [
  {
   "cell_type": "markdown",
   "id": "e7b55d06",
   "metadata": {},
   "source": [
    "## Q1       \n",
    "        Display descriptive statistics on the dataset."
   ]
  },
  {
   "cell_type": "code",
   "execution_count": 1,
   "id": "97b9e8aa",
   "metadata": {},
   "outputs": [],
   "source": [
    "# Import libraries for data manipulation\n",
    "import numpy as np\n",
    "import pandas as pd\n",
    "\n",
    "# Import libraries for data visualization\n",
    "import matplotlib.pyplot as plt\n",
    "import seaborn as sns\n",
    "import seaborn as seabornInstance\n",
    "%matplotlib inline"
   ]
  },
  {
   "cell_type": "code",
   "execution_count": 2,
   "id": "f9a5f4b2",
   "metadata": {
    "scrolled": true
   },
   "outputs": [
    {
     "data": {
      "text/html": [
       "<div>\n",
       "<style scoped>\n",
       "    .dataframe tbody tr th:only-of-type {\n",
       "        vertical-align: middle;\n",
       "    }\n",
       "\n",
       "    .dataframe tbody tr th {\n",
       "        vertical-align: top;\n",
       "    }\n",
       "\n",
       "    .dataframe thead th {\n",
       "        text-align: right;\n",
       "    }\n",
       "</style>\n",
       "<table border=\"1\" class=\"dataframe\">\n",
       "  <thead>\n",
       "    <tr style=\"text-align: right;\">\n",
       "      <th></th>\n",
       "      <th>married</th>\n",
       "      <th>hourly_wage</th>\n",
       "      <th>years_in_education</th>\n",
       "      <th>years_in_employment</th>\n",
       "      <th>num_dependents</th>\n",
       "      <th>gender</th>\n",
       "      <th>race</th>\n",
       "    </tr>\n",
       "  </thead>\n",
       "  <tbody>\n",
       "    <tr>\n",
       "      <th>0</th>\n",
       "      <td>1.0</td>\n",
       "      <td>3.24</td>\n",
       "      <td>12.0</td>\n",
       "      <td>2.0</td>\n",
       "      <td>3.0</td>\n",
       "      <td>female</td>\n",
       "      <td>white</td>\n",
       "    </tr>\n",
       "    <tr>\n",
       "      <th>1</th>\n",
       "      <td>0.0</td>\n",
       "      <td>3.00</td>\n",
       "      <td>11.0</td>\n",
       "      <td>0.0</td>\n",
       "      <td>2.0</td>\n",
       "      <td>male</td>\n",
       "      <td>white</td>\n",
       "    </tr>\n",
       "    <tr>\n",
       "      <th>2</th>\n",
       "      <td>1.0</td>\n",
       "      <td>6.00</td>\n",
       "      <td>8.0</td>\n",
       "      <td>28.0</td>\n",
       "      <td>0.0</td>\n",
       "      <td>male</td>\n",
       "      <td>white</td>\n",
       "    </tr>\n",
       "    <tr>\n",
       "      <th>3</th>\n",
       "      <td>1.0</td>\n",
       "      <td>5.30</td>\n",
       "      <td>12.0</td>\n",
       "      <td>2.0</td>\n",
       "      <td>1.0</td>\n",
       "      <td>male</td>\n",
       "      <td>white</td>\n",
       "    </tr>\n",
       "    <tr>\n",
       "      <th>4</th>\n",
       "      <td>1.0</td>\n",
       "      <td>8.75</td>\n",
       "      <td>16.0</td>\n",
       "      <td>8.0</td>\n",
       "      <td>0.0</td>\n",
       "      <td>male</td>\n",
       "      <td>white</td>\n",
       "    </tr>\n",
       "  </tbody>\n",
       "</table>\n",
       "</div>"
      ],
      "text/plain": [
       "   married  hourly_wage  years_in_education  years_in_employment  \\\n",
       "0      1.0         3.24                12.0                  2.0   \n",
       "1      0.0         3.00                11.0                  0.0   \n",
       "2      1.0         6.00                 8.0                 28.0   \n",
       "3      1.0         5.30                12.0                  2.0   \n",
       "4      1.0         8.75                16.0                  8.0   \n",
       "\n",
       "   num_dependents  gender   race  \n",
       "0             3.0  female  white  \n",
       "1             2.0    male  white  \n",
       "2             0.0    male  white  \n",
       "3             1.0    male  white  \n",
       "4             0.0    male  white  "
      ]
     },
     "execution_count": 2,
     "metadata": {},
     "output_type": "execute_result"
    }
   ],
   "source": [
    "# Read the data\n",
    "df = pd.read_csv('wage.csv')\n",
    "# Returns the first 5 rows\n",
    "df.head()"
   ]
  },
  {
   "cell_type": "code",
   "execution_count": 3,
   "id": "41e6138d",
   "metadata": {
    "scrolled": true
   },
   "outputs": [
    {
     "data": {
      "text/html": [
       "<div>\n",
       "<style scoped>\n",
       "    .dataframe tbody tr th:only-of-type {\n",
       "        vertical-align: middle;\n",
       "    }\n",
       "\n",
       "    .dataframe tbody tr th {\n",
       "        vertical-align: top;\n",
       "    }\n",
       "\n",
       "    .dataframe thead th {\n",
       "        text-align: right;\n",
       "    }\n",
       "</style>\n",
       "<table border=\"1\" class=\"dataframe\">\n",
       "  <thead>\n",
       "    <tr style=\"text-align: right;\">\n",
       "      <th></th>\n",
       "      <th>married</th>\n",
       "      <th>hourly_wage</th>\n",
       "      <th>years_in_education</th>\n",
       "      <th>years_in_employment</th>\n",
       "      <th>num_dependents</th>\n",
       "    </tr>\n",
       "  </thead>\n",
       "  <tbody>\n",
       "    <tr>\n",
       "      <th>count</th>\n",
       "      <td>522.000000</td>\n",
       "      <td>517.000000</td>\n",
       "      <td>522.000000</td>\n",
       "      <td>519.000000</td>\n",
       "      <td>520.000000</td>\n",
       "    </tr>\n",
       "    <tr>\n",
       "      <th>mean</th>\n",
       "      <td>0.609195</td>\n",
       "      <td>5.917737</td>\n",
       "      <td>12.557471</td>\n",
       "      <td>5.152216</td>\n",
       "      <td>1.044231</td>\n",
       "    </tr>\n",
       "    <tr>\n",
       "      <th>std</th>\n",
       "      <td>0.488399</td>\n",
       "      <td>3.699058</td>\n",
       "      <td>2.757219</td>\n",
       "      <td>7.257133</td>\n",
       "      <td>1.258484</td>\n",
       "    </tr>\n",
       "    <tr>\n",
       "      <th>min</th>\n",
       "      <td>0.000000</td>\n",
       "      <td>0.530000</td>\n",
       "      <td>0.000000</td>\n",
       "      <td>0.000000</td>\n",
       "      <td>0.000000</td>\n",
       "    </tr>\n",
       "    <tr>\n",
       "      <th>25%</th>\n",
       "      <td>0.000000</td>\n",
       "      <td>3.350000</td>\n",
       "      <td>12.000000</td>\n",
       "      <td>0.000000</td>\n",
       "      <td>0.000000</td>\n",
       "    </tr>\n",
       "    <tr>\n",
       "      <th>50%</th>\n",
       "      <td>1.000000</td>\n",
       "      <td>4.670000</td>\n",
       "      <td>12.000000</td>\n",
       "      <td>2.000000</td>\n",
       "      <td>1.000000</td>\n",
       "    </tr>\n",
       "    <tr>\n",
       "      <th>75%</th>\n",
       "      <td>1.000000</td>\n",
       "      <td>6.880000</td>\n",
       "      <td>14.000000</td>\n",
       "      <td>7.000000</td>\n",
       "      <td>2.000000</td>\n",
       "    </tr>\n",
       "    <tr>\n",
       "      <th>max</th>\n",
       "      <td>1.000000</td>\n",
       "      <td>24.980000</td>\n",
       "      <td>18.000000</td>\n",
       "      <td>44.000000</td>\n",
       "      <td>6.000000</td>\n",
       "    </tr>\n",
       "  </tbody>\n",
       "</table>\n",
       "</div>"
      ],
      "text/plain": [
       "          married  hourly_wage  years_in_education  years_in_employment  \\\n",
       "count  522.000000   517.000000          522.000000           519.000000   \n",
       "mean     0.609195     5.917737           12.557471             5.152216   \n",
       "std      0.488399     3.699058            2.757219             7.257133   \n",
       "min      0.000000     0.530000            0.000000             0.000000   \n",
       "25%      0.000000     3.350000           12.000000             0.000000   \n",
       "50%      1.000000     4.670000           12.000000             2.000000   \n",
       "75%      1.000000     6.880000           14.000000             7.000000   \n",
       "max      1.000000    24.980000           18.000000            44.000000   \n",
       "\n",
       "       num_dependents  \n",
       "count      520.000000  \n",
       "mean         1.044231  \n",
       "std          1.258484  \n",
       "min          0.000000  \n",
       "25%          0.000000  \n",
       "50%          1.000000  \n",
       "75%          2.000000  \n",
       "max          6.000000  "
      ]
     },
     "execution_count": 3,
     "metadata": {},
     "output_type": "execute_result"
    }
   ],
   "source": [
    "# Get the summary statistics of the numerical data\n",
    "df.describe()"
   ]
  },
  {
   "cell_type": "code",
   "execution_count": 4,
   "id": "56a277d1",
   "metadata": {
    "scrolled": true
   },
   "outputs": [
    {
     "data": {
      "text/html": [
       "<div>\n",
       "<style scoped>\n",
       "    .dataframe tbody tr th:only-of-type {\n",
       "        vertical-align: middle;\n",
       "    }\n",
       "\n",
       "    .dataframe tbody tr th {\n",
       "        vertical-align: top;\n",
       "    }\n",
       "\n",
       "    .dataframe thead th {\n",
       "        text-align: right;\n",
       "    }\n",
       "</style>\n",
       "<table border=\"1\" class=\"dataframe\">\n",
       "  <thead>\n",
       "    <tr style=\"text-align: right;\">\n",
       "      <th></th>\n",
       "      <th>gender</th>\n",
       "      <th>race</th>\n",
       "    </tr>\n",
       "  </thead>\n",
       "  <tbody>\n",
       "    <tr>\n",
       "      <th>count</th>\n",
       "      <td>521</td>\n",
       "      <td>515</td>\n",
       "    </tr>\n",
       "    <tr>\n",
       "      <th>unique</th>\n",
       "      <td>2</td>\n",
       "      <td>2</td>\n",
       "    </tr>\n",
       "    <tr>\n",
       "      <th>top</th>\n",
       "      <td>male</td>\n",
       "      <td>white</td>\n",
       "    </tr>\n",
       "    <tr>\n",
       "      <th>freq</th>\n",
       "      <td>272</td>\n",
       "      <td>461</td>\n",
       "    </tr>\n",
       "  </tbody>\n",
       "</table>\n",
       "</div>"
      ],
      "text/plain": [
       "       gender   race\n",
       "count     521    515\n",
       "unique      2      2\n",
       "top      male  white\n",
       "freq      272    461"
      ]
     },
     "execution_count": 4,
     "metadata": {},
     "output_type": "execute_result"
    }
   ],
   "source": [
    "# Get the summary statistics of the categorical data\n",
    "df.describe(include = ['object'])"
   ]
  },
  {
   "cell_type": "code",
   "execution_count": 5,
   "id": "7fcceb69",
   "metadata": {},
   "outputs": [
    {
     "data": {
      "text/plain": [
       "(525, 7)"
      ]
     },
     "execution_count": 5,
     "metadata": {},
     "output_type": "execute_result"
    }
   ],
   "source": [
    "# Check the shape of the dataset\n",
    "df.shape "
   ]
  },
  {
   "cell_type": "code",
   "execution_count": 6,
   "id": "46fc0b12",
   "metadata": {},
   "outputs": [
    {
     "data": {
      "text/plain": [
       "3675"
      ]
     },
     "execution_count": 6,
     "metadata": {},
     "output_type": "execute_result"
    }
   ],
   "source": [
    "# Check the size of the dataset\n",
    "df.size"
   ]
  },
  {
   "cell_type": "markdown",
   "id": "a4026c76",
   "metadata": {},
   "source": [
    "## Q2    \n",
    "    Check if any records in the data have any missing values; handle the missing data as appropriate."
   ]
  },
  {
   "cell_type": "code",
   "execution_count": 7,
   "id": "169ea451",
   "metadata": {
    "scrolled": true
   },
   "outputs": [
    {
     "name": "stdout",
     "output_type": "stream",
     "text": [
      "<class 'pandas.core.frame.DataFrame'>\n",
      "RangeIndex: 525 entries, 0 to 524\n",
      "Data columns (total 7 columns):\n",
      " #   Column               Non-Null Count  Dtype  \n",
      "---  ------               --------------  -----  \n",
      " 0   married              522 non-null    float64\n",
      " 1   hourly_wage          517 non-null    float64\n",
      " 2   years_in_education   522 non-null    float64\n",
      " 3   years_in_employment  519 non-null    float64\n",
      " 4   num_dependents       520 non-null    float64\n",
      " 5   gender               521 non-null    object \n",
      " 6   race                 515 non-null    object \n",
      "dtypes: float64(5), object(2)\n",
      "memory usage: 28.8+ KB\n"
     ]
    }
   ],
   "source": [
    "# To print a concise summary of the DataFrame\n",
    "df.info()"
   ]
  },
  {
   "cell_type": "code",
   "execution_count": 8,
   "id": "319223b8",
   "metadata": {
    "scrolled": false
   },
   "outputs": [
    {
     "data": {
      "text/plain": [
       "married                 3\n",
       "hourly_wage             8\n",
       "years_in_education      3\n",
       "years_in_employment     6\n",
       "num_dependents          5\n",
       "gender                  4\n",
       "race                   10\n",
       "dtype: int64"
      ]
     },
     "execution_count": 8,
     "metadata": {},
     "output_type": "execute_result"
    }
   ],
   "source": [
    "# checking for missing values\n",
    "df.isnull().sum()"
   ]
  },
  {
   "cell_type": "code",
   "execution_count": 9,
   "id": "dceedcd2",
   "metadata": {
    "scrolled": true
   },
   "outputs": [
    {
     "data": {
      "text/plain": [
       "39"
      ]
     },
     "execution_count": 9,
     "metadata": {},
     "output_type": "execute_result"
    }
   ],
   "source": [
    "# Checking the total number of missing variables\n",
    "df.isnull().sum().sum()"
   ]
  },
  {
   "cell_type": "code",
   "execution_count": 10,
   "id": "66f4bf85",
   "metadata": {},
   "outputs": [],
   "source": [
    "# replacing the missing values with statistical measures i.e mean and mode approximately 8% of the data set would be deducted\n",
    "df['married'].fillna(df['married'].mode()[0], inplace=True)\n",
    "df['hourly_wage'].fillna(df['hourly_wage'].mean(), inplace=True)\n",
    "df['years_in_education'].fillna(df['years_in_education'].mean(), inplace=True)\n",
    "df['years_in_employment'].fillna(df['years_in_employment'].mean(), inplace=True)\n",
    "df['num_dependents'].fillna(df['num_dependents'].mean(), inplace=True)\n",
    "df['race'].fillna(df['race'].mode()[0], inplace=True)\n",
    "df['gender'].fillna(df['gender'].mode()[0], inplace=True)"
   ]
  },
  {
   "cell_type": "code",
   "execution_count": 11,
   "id": "9ab848f8",
   "metadata": {},
   "outputs": [],
   "source": [
    "# changing the data types of married and number of dependents from float to integer for easier\n",
    "df['married'] = df['married'].astype('int')\n",
    "df['num_dependents'] = df['num_dependents'].astype('int')"
   ]
  },
  {
   "cell_type": "code",
   "execution_count": 12,
   "id": "8bb3a658",
   "metadata": {
    "scrolled": false
   },
   "outputs": [
    {
     "data": {
      "text/plain": [
       "married                0\n",
       "hourly_wage            0\n",
       "years_in_education     0\n",
       "years_in_employment    0\n",
       "num_dependents         0\n",
       "gender                 0\n",
       "race                   0\n",
       "dtype: int64"
      ]
     },
     "execution_count": 12,
     "metadata": {},
     "output_type": "execute_result"
    }
   ],
   "source": [
    "# verifying the number of missing variables available\n",
    "df.isnull().sum()"
   ]
  },
  {
   "cell_type": "markdown",
   "id": "cb9f47e6",
   "metadata": {},
   "source": [
    "## Q3\n",
    "    Build a graph visualizing the distribution of one or more individual continuous variables of the dataset"
   ]
  },
  {
   "cell_type": "code",
   "execution_count": 13,
   "id": "d1b5f881",
   "metadata": {
    "scrolled": true
   },
   "outputs": [
    {
     "name": "stderr",
     "output_type": "stream",
     "text": [
      "C:\\Users\\maryam\\anaconda3\\lib\\site-packages\\seaborn\\distributions.py:2557: FutureWarning: `distplot` is a deprecated function and will be removed in a future version. Please adapt your code to use either `displot` (a figure-level function with similar flexibility) or `histplot` (an axes-level function for histograms).\n",
      "  warnings.warn(msg, FutureWarning)\n"
     ]
    },
    {
     "data": {
      "text/plain": [
       "<AxesSubplot:xlabel='hourly_wage', ylabel='Density'>"
      ]
     },
     "execution_count": 13,
     "metadata": {},
     "output_type": "execute_result"
    },
    {
     "data": {
      "image/png": "[encoded data removed]",
      "text/plain": [
       "<Figure size 432x288 with 1 Axes>"
      ]
     },
     "metadata": {
      "needs_background": "light"
     },
     "output_type": "display_data"
    }
   ],
   "source": [
    "sns.distplot(df['hourly_wage'])"
   ]
  },
  {
   "cell_type": "code",
   "execution_count": null,
   "id": "edd49c5f",
   "metadata": {},
   "outputs": [],
   "source": []
  },
  {
   "cell_type": "code",
   "execution_count": 14,
   "id": "6f8017a5",
   "metadata": {
    "scrolled": true
   },
   "outputs": [
    {
     "name": "stderr",
     "output_type": "stream",
     "text": [
      "C:\\Users\\maryam\\anaconda3\\lib\\site-packages\\seaborn\\distributions.py:2557: FutureWarning: `distplot` is a deprecated function and will be removed in a future version. Please adapt your code to use either `displot` (a figure-level function with similar flexibility) or `histplot` (an axes-level function for histograms).\n",
      "  warnings.warn(msg, FutureWarning)\n"
     ]
    },
    {
     "data": {
      "text/plain": [
       "<AxesSubplot:xlabel='hourly_wage', ylabel='Density'>"
      ]
     },
     "execution_count": 14,
     "metadata": {},
     "output_type": "execute_result"
    },
    {
     "data": {
      "image/png": "[encoded data removed]",
      "text/plain": [
       "<Figure size 1080x720 with 1 Axes>"
      ]
     },
     "metadata": {
      "needs_background": "light"
     },
     "output_type": "display_data"
    }
   ],
   "source": [
    "plt.figure(figsize=(15,10))\n",
    "plt.tight_layout()\n",
    "seabornInstance.distplot(df['hourly_wage'])"
   ]
  },
  {
   "cell_type": "code",
   "execution_count": 15,
   "id": "65f258e1",
   "metadata": {},
   "outputs": [
    {
     "name": "stderr",
     "output_type": "stream",
     "text": [
      "C:\\Users\\maryam\\anaconda3\\lib\\site-packages\\seaborn\\distributions.py:2557: FutureWarning: `distplot` is a deprecated function and will be removed in a future version. Please adapt your code to use either `displot` (a figure-level function with similar flexibility) or `histplot` (an axes-level function for histograms).\n",
      "  warnings.warn(msg, FutureWarning)\n"
     ]
    },
    {
     "data": {
      "text/plain": [
       "<AxesSubplot:xlabel='years_in_education', ylabel='Density'>"
      ]
     },
     "execution_count": 15,
     "metadata": {},
     "output_type": "execute_result"
    },
    {
     "data": {
      "image/png": "[encoded data removed]",
      "text/plain": [
       "<Figure size 1080x720 with 1 Axes>"
      ]
     },
     "metadata": {
      "needs_background": "light"
     },
     "output_type": "display_data"
    }
   ],
   "source": [
    "plt.figure(figsize=(15,10))\n",
    "plt.tight_layout()\n",
    "seabornInstance.distplot(df['years_in_education'])"
   ]
  },
  {
   "cell_type": "code",
   "execution_count": 16,
   "id": "d6f7abc0",
   "metadata": {},
   "outputs": [
    {
     "name": "stderr",
     "output_type": "stream",
     "text": [
      "C:\\Users\\maryam\\anaconda3\\lib\\site-packages\\seaborn\\distributions.py:2557: FutureWarning: `distplot` is a deprecated function and will be removed in a future version. Please adapt your code to use either `displot` (a figure-level function with similar flexibility) or `histplot` (an axes-level function for histograms).\n",
      "  warnings.warn(msg, FutureWarning)\n"
     ]
    },
    {
     "data": {
      "text/plain": [
       "<AxesSubplot:xlabel='years_in_employment', ylabel='Density'>"
      ]
     },
     "execution_count": 16,
     "metadata": {},
     "output_type": "execute_result"
    },
    {
     "data": {
      "image/png": "[encoded data removed]",
      "text/plain": [
       "<Figure size 1080x720 with 1 Axes>"
      ]
     },
     "metadata": {
      "needs_background": "light"
     },
     "output_type": "display_data"
    }
   ],
   "source": [
    "plt.figure(figsize=(15,10))\n",
    "plt.tight_layout()\n",
    "seabornInstance.distplot(df['years_in_employment'])"
   ]
  },
  {
   "cell_type": "code",
   "execution_count": 17,
   "id": "79ea726e",
   "metadata": {},
   "outputs": [
    {
     "name": "stderr",
     "output_type": "stream",
     "text": [
      "C:\\Users\\maryam\\anaconda3\\lib\\site-packages\\seaborn\\distributions.py:2557: FutureWarning: `distplot` is a deprecated function and will be removed in a future version. Please adapt your code to use either `displot` (a figure-level function with similar flexibility) or `histplot` (an axes-level function for histograms).\n",
      "  warnings.warn(msg, FutureWarning)\n"
     ]
    },
    {
     "data": {
      "text/plain": [
       "<AxesSubplot:xlabel='num_dependents', ylabel='Density'>"
      ]
     },
     "execution_count": 17,
     "metadata": {},
     "output_type": "execute_result"
    },
    {
     "data": {
      "image/png": "[encoded data removed]",
      "text/plain": [
       "<Figure size 1080x720 with 1 Axes>"
      ]
     },
     "metadata": {
      "needs_background": "light"
     },
     "output_type": "display_data"
    }
   ],
   "source": [
    "plt.figure(figsize=(15,10))\n",
    "plt.tight_layout()\n",
    "seabornInstance.distplot(df['num_dependents'])"
   ]
  },
  {
   "cell_type": "markdown",
   "id": "d1e6c40d",
   "metadata": {},
   "source": [
    "## Q4\n",
    "       Build a graph visualizing the relationship in a pair of continuous variables. Determine the correlation between them."
   ]
  },
  {
   "cell_type": "code",
   "execution_count": 18,
   "id": "48b9587c",
   "metadata": {
    "scrolled": true
   },
   "outputs": [
    {
     "data": {
      "text/html": [
       "<div>\n",
       "<style scoped>\n",
       "    .dataframe tbody tr th:only-of-type {\n",
       "        vertical-align: middle;\n",
       "    }\n",
       "\n",
       "    .dataframe tbody tr th {\n",
       "        vertical-align: top;\n",
       "    }\n",
       "\n",
       "    .dataframe thead th {\n",
       "        text-align: right;\n",
       "    }\n",
       "</style>\n",
       "<table border=\"1\" class=\"dataframe\">\n",
       "  <thead>\n",
       "    <tr style=\"text-align: right;\">\n",
       "      <th></th>\n",
       "      <th>married</th>\n",
       "      <th>hourly_wage</th>\n",
       "      <th>years_in_education</th>\n",
       "      <th>years_in_employment</th>\n",
       "      <th>num_dependents</th>\n",
       "    </tr>\n",
       "  </thead>\n",
       "  <tbody>\n",
       "    <tr>\n",
       "      <th>married</th>\n",
       "      <td>1.000000</td>\n",
       "      <td>0.232901</td>\n",
       "      <td>0.065053</td>\n",
       "      <td>0.238389</td>\n",
       "      <td>0.146587</td>\n",
       "    </tr>\n",
       "    <tr>\n",
       "      <th>hourly_wage</th>\n",
       "      <td>0.232901</td>\n",
       "      <td>1.000000</td>\n",
       "      <td>0.388620</td>\n",
       "      <td>0.340975</td>\n",
       "      <td>-0.047181</td>\n",
       "    </tr>\n",
       "    <tr>\n",
       "      <th>years_in_education</th>\n",
       "      <td>0.065053</td>\n",
       "      <td>0.388620</td>\n",
       "      <td>1.000000</td>\n",
       "      <td>-0.063015</td>\n",
       "      <td>-0.218633</td>\n",
       "    </tr>\n",
       "    <tr>\n",
       "      <th>years_in_employment</th>\n",
       "      <td>0.238389</td>\n",
       "      <td>0.340975</td>\n",
       "      <td>-0.063015</td>\n",
       "      <td>1.000000</td>\n",
       "      <td>-0.017082</td>\n",
       "    </tr>\n",
       "    <tr>\n",
       "      <th>num_dependents</th>\n",
       "      <td>0.146587</td>\n",
       "      <td>-0.047181</td>\n",
       "      <td>-0.218633</td>\n",
       "      <td>-0.017082</td>\n",
       "      <td>1.000000</td>\n",
       "    </tr>\n",
       "  </tbody>\n",
       "</table>\n",
       "</div>"
      ],
      "text/plain": [
       "                      married  hourly_wage  years_in_education  \\\n",
       "married              1.000000     0.232901            0.065053   \n",
       "hourly_wage          0.232901     1.000000            0.388620   \n",
       "years_in_education   0.065053     0.388620            1.000000   \n",
       "years_in_employment  0.238389     0.340975           -0.063015   \n",
       "num_dependents       0.146587    -0.047181           -0.218633   \n",
       "\n",
       "                     years_in_employment  num_dependents  \n",
       "married                         0.238389        0.146587  \n",
       "hourly_wage                     0.340975       -0.047181  \n",
       "years_in_education             -0.063015       -0.218633  \n",
       "years_in_employment             1.000000       -0.017082  \n",
       "num_dependents                 -0.017082        1.000000  "
      ]
     },
     "execution_count": 18,
     "metadata": {},
     "output_type": "execute_result"
    }
   ],
   "source": [
    "df.corr()"
   ]
  },
  {
   "cell_type": "code",
   "execution_count": 19,
   "id": "2285b02c",
   "metadata": {
    "scrolled": true
   },
   "outputs": [
    {
     "data": {
      "text/plain": [
       "<AxesSubplot:>"
      ]
     },
     "execution_count": 19,
     "metadata": {},
     "output_type": "execute_result"
    },
    {
     "data": {
      "image/png": "[encoded data removed]",
      "text/plain": [
       "<Figure size 432x288 with 2 Axes>"
      ]
     },
     "metadata": {
      "needs_background": "light"
     },
     "output_type": "display_data"
    }
   ],
   "source": [
    "sns.heatmap(df.corr())"
   ]
  },
  {
   "cell_type": "code",
   "execution_count": 20,
   "id": "b2351522",
   "metadata": {},
   "outputs": [],
   "source": [
    "correlation_mat = df.corr()"
   ]
  },
  {
   "cell_type": "code",
   "execution_count": 21,
   "id": "1d405562",
   "metadata": {},
   "outputs": [
    {
     "data": {
      "image/png": "[encoded data removed]",
      "text/plain": [
       "<Figure size 504x432 with 2 Axes>"
      ]
     },
     "metadata": {},
     "output_type": "display_data"
    }
   ],
   "source": [
    "# deleting the upper half, since its repetitive\n",
    "mask = np.zeros_like(correlation_mat)\n",
    "mask[np.triu_indices_from(mask)] = True\n",
    "with sns.axes_style(\"white\"):\n",
    "    f, ax = plt.subplots(figsize=(7,6))\n",
    "    ax = sns.heatmap(correlation_mat,\n",
    "mask=mask,annot=True,cmap=\"YlGnBu\")"
   ]
  },
  {
   "cell_type": "markdown",
   "id": "f4c7d180",
   "metadata": {},
   "source": [
    "## Q5\n",
    "    Display unique values of a categorical variable."
   ]
  },
  {
   "cell_type": "code",
   "execution_count": 22,
   "id": "767babc8",
   "metadata": {
    "scrolled": true
   },
   "outputs": [
    {
     "data": {
      "text/plain": [
       "1    321\n",
       "0    204\n",
       "Name: married, dtype: int64"
      ]
     },
     "execution_count": 22,
     "metadata": {},
     "output_type": "execute_result"
    }
   ],
   "source": [
    "df['married'].value_counts()"
   ]
  },
  {
   "cell_type": "code",
   "execution_count": 23,
   "id": "35fb9e00",
   "metadata": {
    "scrolled": true
   },
   "outputs": [
    {
     "name": "stdout",
     "output_type": "stream",
     "text": [
      "[1 0]\n"
     ]
    }
   ],
   "source": [
    "print(df['married'].unique())"
   ]
  },
  {
   "cell_type": "code",
   "execution_count": 24,
   "id": "4b1e441e",
   "metadata": {},
   "outputs": [
    {
     "data": {
      "text/plain": [
       "[1, 0]"
      ]
     },
     "execution_count": 24,
     "metadata": {},
     "output_type": "execute_result"
    }
   ],
   "source": [
    "df['married'].unique().tolist()"
   ]
  },
  {
   "cell_type": "code",
   "execution_count": 25,
   "id": "d44c7625",
   "metadata": {},
   "outputs": [
    {
     "data": {
      "text/plain": [
       "2"
      ]
     },
     "execution_count": 25,
     "metadata": {},
     "output_type": "execute_result"
    }
   ],
   "source": [
    "df['married'].nunique()"
   ]
  },
  {
   "cell_type": "code",
   "execution_count": 26,
   "id": "ba9fbb51",
   "metadata": {},
   "outputs": [
    {
     "data": {
      "text/plain": [
       "male      276\n",
       "female    249\n",
       "Name: gender, dtype: int64"
      ]
     },
     "execution_count": 26,
     "metadata": {},
     "output_type": "execute_result"
    }
   ],
   "source": [
    "df['gender'].value_counts()"
   ]
  },
  {
   "cell_type": "code",
   "execution_count": 27,
   "id": "d87b8150",
   "metadata": {},
   "outputs": [
    {
     "data": {
      "text/html": [
       "<div>\n",
       "<style scoped>\n",
       "    .dataframe tbody tr th:only-of-type {\n",
       "        vertical-align: middle;\n",
       "    }\n",
       "\n",
       "    .dataframe tbody tr th {\n",
       "        vertical-align: top;\n",
       "    }\n",
       "\n",
       "    .dataframe thead th {\n",
       "        text-align: right;\n",
       "    }\n",
       "</style>\n",
       "<table border=\"1\" class=\"dataframe\">\n",
       "  <thead>\n",
       "    <tr style=\"text-align: right;\">\n",
       "      <th></th>\n",
       "      <th>married</th>\n",
       "    </tr>\n",
       "  </thead>\n",
       "  <tbody>\n",
       "    <tr>\n",
       "      <th>1</th>\n",
       "      <td>321</td>\n",
       "    </tr>\n",
       "    <tr>\n",
       "      <th>0</th>\n",
       "      <td>204</td>\n",
       "    </tr>\n",
       "  </tbody>\n",
       "</table>\n",
       "</div>"
      ],
      "text/plain": [
       "   married\n",
       "1      321\n",
       "0      204"
      ]
     },
     "execution_count": 27,
     "metadata": {},
     "output_type": "execute_result"
    }
   ],
   "source": [
    "df['married'].value_counts().to_frame()"
   ]
  },
  {
   "cell_type": "code",
   "execution_count": 28,
   "id": "48714caa",
   "metadata": {},
   "outputs": [
    {
     "name": "stdout",
     "output_type": "stream",
     "text": [
      "['female' 'male']\n"
     ]
    }
   ],
   "source": [
    "print(df['gender'].unique())"
   ]
  },
  {
   "cell_type": "markdown",
   "id": "b9107d50",
   "metadata": {},
   "source": [
    "## Q6\n",
    "    Build a contingency table of two potentially related categorical variables. Conduct a statistical test of the \n",
    "    independence between them."
   ]
  },
  {
   "cell_type": "code",
   "execution_count": 29,
   "id": "7f365669",
   "metadata": {
    "scrolled": false
   },
   "outputs": [
    {
     "data": {
      "text/html": [
       "<div>\n",
       "<style scoped>\n",
       "    .dataframe tbody tr th:only-of-type {\n",
       "        vertical-align: middle;\n",
       "    }\n",
       "\n",
       "    .dataframe tbody tr th {\n",
       "        vertical-align: top;\n",
       "    }\n",
       "\n",
       "    .dataframe thead th {\n",
       "        text-align: right;\n",
       "    }\n",
       "</style>\n",
       "<table border=\"1\" class=\"dataframe\">\n",
       "  <thead>\n",
       "    <tr style=\"text-align: right;\">\n",
       "      <th>gender</th>\n",
       "      <th>female</th>\n",
       "      <th>male</th>\n",
       "      <th>All</th>\n",
       "    </tr>\n",
       "    <tr>\n",
       "      <th>married</th>\n",
       "      <th></th>\n",
       "      <th></th>\n",
       "      <th></th>\n",
       "    </tr>\n",
       "  </thead>\n",
       "  <tbody>\n",
       "    <tr>\n",
       "      <th>0</th>\n",
       "      <td>118</td>\n",
       "      <td>86</td>\n",
       "      <td>204</td>\n",
       "    </tr>\n",
       "    <tr>\n",
       "      <th>1</th>\n",
       "      <td>131</td>\n",
       "      <td>190</td>\n",
       "      <td>321</td>\n",
       "    </tr>\n",
       "    <tr>\n",
       "      <th>All</th>\n",
       "      <td>249</td>\n",
       "      <td>276</td>\n",
       "      <td>525</td>\n",
       "    </tr>\n",
       "  </tbody>\n",
       "</table>\n",
       "</div>"
      ],
      "text/plain": [
       "gender   female  male  All\n",
       "married                   \n",
       "0           118    86  204\n",
       "1           131   190  321\n",
       "All         249   276  525"
      ]
     },
     "execution_count": 29,
     "metadata": {},
     "output_type": "execute_result"
    }
   ],
   "source": [
    "pd.crosstab(df.married,df.gender,margins=True)"
   ]
  },
  {
   "cell_type": "code",
   "execution_count": 30,
   "id": "1bad646a",
   "metadata": {
    "scrolled": true
   },
   "outputs": [
    {
     "data": {
      "text/html": [
       "<div>\n",
       "<style scoped>\n",
       "    .dataframe tbody tr th:only-of-type {\n",
       "        vertical-align: middle;\n",
       "    }\n",
       "\n",
       "    .dataframe tbody tr th {\n",
       "        vertical-align: top;\n",
       "    }\n",
       "\n",
       "    .dataframe thead tr th {\n",
       "        text-align: left;\n",
       "    }\n",
       "\n",
       "    .dataframe thead tr:last-of-type th {\n",
       "        text-align: right;\n",
       "    }\n",
       "</style>\n",
       "<table border=\"1\" class=\"dataframe\">\n",
       "  <thead>\n",
       "    <tr>\n",
       "      <th>gender</th>\n",
       "      <th colspan=\"2\" halign=\"left\">female</th>\n",
       "      <th colspan=\"2\" halign=\"left\">male</th>\n",
       "      <th>All</th>\n",
       "    </tr>\n",
       "    <tr>\n",
       "      <th>race</th>\n",
       "      <th>nonwhite</th>\n",
       "      <th>white</th>\n",
       "      <th>nonwhite</th>\n",
       "      <th>white</th>\n",
       "      <th></th>\n",
       "    </tr>\n",
       "    <tr>\n",
       "      <th>married</th>\n",
       "      <th></th>\n",
       "      <th></th>\n",
       "      <th></th>\n",
       "      <th></th>\n",
       "      <th></th>\n",
       "    </tr>\n",
       "  </thead>\n",
       "  <tbody>\n",
       "    <tr>\n",
       "      <th>0</th>\n",
       "      <td>17</td>\n",
       "      <td>101</td>\n",
       "      <td>9</td>\n",
       "      <td>77</td>\n",
       "      <td>204</td>\n",
       "    </tr>\n",
       "    <tr>\n",
       "      <th>1</th>\n",
       "      <td>8</td>\n",
       "      <td>123</td>\n",
       "      <td>20</td>\n",
       "      <td>170</td>\n",
       "      <td>321</td>\n",
       "    </tr>\n",
       "    <tr>\n",
       "      <th>All</th>\n",
       "      <td>25</td>\n",
       "      <td>224</td>\n",
       "      <td>29</td>\n",
       "      <td>247</td>\n",
       "      <td>525</td>\n",
       "    </tr>\n",
       "  </tbody>\n",
       "</table>\n",
       "</div>"
      ],
      "text/plain": [
       "gender    female           male        All\n",
       "race    nonwhite white nonwhite white     \n",
       "married                                   \n",
       "0             17   101        9    77  204\n",
       "1              8   123       20   170  321\n",
       "All           25   224       29   247  525"
      ]
     },
     "execution_count": 30,
     "metadata": {},
     "output_type": "execute_result"
    }
   ],
   "source": [
    "pd.crosstab([df.married],[df.gender,df.race],margins=True)"
   ]
  },
  {
   "cell_type": "code",
   "execution_count": 31,
   "id": "bd93b9c1",
   "metadata": {},
   "outputs": [
    {
     "data": {
      "text/html": [
       "<div>\n",
       "<style scoped>\n",
       "    .dataframe tbody tr th:only-of-type {\n",
       "        vertical-align: middle;\n",
       "    }\n",
       "\n",
       "    .dataframe tbody tr th {\n",
       "        vertical-align: top;\n",
       "    }\n",
       "\n",
       "    .dataframe thead tr th {\n",
       "        text-align: left;\n",
       "    }\n",
       "\n",
       "    .dataframe thead tr:last-of-type th {\n",
       "        text-align: right;\n",
       "    }\n",
       "</style>\n",
       "<table border=\"1\" class=\"dataframe\">\n",
       "  <thead>\n",
       "    <tr>\n",
       "      <th>gender</th>\n",
       "      <th colspan=\"2\" halign=\"left\">female</th>\n",
       "      <th colspan=\"2\" halign=\"left\">male</th>\n",
       "      <th>All</th>\n",
       "    </tr>\n",
       "    <tr>\n",
       "      <th>married</th>\n",
       "      <th>0</th>\n",
       "      <th>1</th>\n",
       "      <th>0</th>\n",
       "      <th>1</th>\n",
       "      <th></th>\n",
       "    </tr>\n",
       "    <tr>\n",
       "      <th>race</th>\n",
       "      <th></th>\n",
       "      <th></th>\n",
       "      <th></th>\n",
       "      <th></th>\n",
       "      <th></th>\n",
       "    </tr>\n",
       "  </thead>\n",
       "  <tbody>\n",
       "    <tr>\n",
       "      <th>nonwhite</th>\n",
       "      <td>17</td>\n",
       "      <td>8</td>\n",
       "      <td>9</td>\n",
       "      <td>20</td>\n",
       "      <td>54</td>\n",
       "    </tr>\n",
       "    <tr>\n",
       "      <th>white</th>\n",
       "      <td>101</td>\n",
       "      <td>123</td>\n",
       "      <td>77</td>\n",
       "      <td>170</td>\n",
       "      <td>471</td>\n",
       "    </tr>\n",
       "    <tr>\n",
       "      <th>All</th>\n",
       "      <td>118</td>\n",
       "      <td>131</td>\n",
       "      <td>86</td>\n",
       "      <td>190</td>\n",
       "      <td>525</td>\n",
       "    </tr>\n",
       "  </tbody>\n",
       "</table>\n",
       "</div>"
      ],
      "text/plain": [
       "gender   female      male       All\n",
       "married       0    1    0    1     \n",
       "race                               \n",
       "nonwhite     17    8    9   20   54\n",
       "white       101  123   77  170  471\n",
       "All         118  131   86  190  525"
      ]
     },
     "execution_count": 31,
     "metadata": {},
     "output_type": "execute_result"
    }
   ],
   "source": [
    "pd.crosstab(df.race,[df.gender,df.married],margins=True)"
   ]
  },
  {
   "cell_type": "code",
   "execution_count": 32,
   "id": "f7643576",
   "metadata": {},
   "outputs": [
    {
     "data": {
      "text/html": [
       "<div>\n",
       "<style scoped>\n",
       "    .dataframe tbody tr th:only-of-type {\n",
       "        vertical-align: middle;\n",
       "    }\n",
       "\n",
       "    .dataframe tbody tr th {\n",
       "        vertical-align: top;\n",
       "    }\n",
       "\n",
       "    .dataframe thead th {\n",
       "        text-align: right;\n",
       "    }\n",
       "</style>\n",
       "<table border=\"1\" class=\"dataframe\">\n",
       "  <thead>\n",
       "    <tr style=\"text-align: right;\">\n",
       "      <th>gender</th>\n",
       "      <th>female</th>\n",
       "      <th>male</th>\n",
       "    </tr>\n",
       "    <tr>\n",
       "      <th>married</th>\n",
       "      <th></th>\n",
       "      <th></th>\n",
       "    </tr>\n",
       "  </thead>\n",
       "  <tbody>\n",
       "    <tr>\n",
       "      <th>0</th>\n",
       "      <td>0.578431</td>\n",
       "      <td>0.421569</td>\n",
       "    </tr>\n",
       "    <tr>\n",
       "      <th>1</th>\n",
       "      <td>0.408100</td>\n",
       "      <td>0.591900</td>\n",
       "    </tr>\n",
       "  </tbody>\n",
       "</table>\n",
       "</div>"
      ],
      "text/plain": [
       "gender     female      male\n",
       "married                    \n",
       "0        0.578431  0.421569\n",
       "1        0.408100  0.591900"
      ]
     },
     "execution_count": 32,
     "metadata": {},
     "output_type": "execute_result"
    }
   ],
   "source": [
    "# percentage of females and males to their marital status\n",
    "pd.crosstab([df.married],[df.gender],normalize='index')"
   ]
  },
  {
   "cell_type": "code",
   "execution_count": 33,
   "id": "b3904f55",
   "metadata": {},
   "outputs": [
    {
     "data": {
      "text/html": [
       "<div>\n",
       "<style scoped>\n",
       "    .dataframe tbody tr th:only-of-type {\n",
       "        vertical-align: middle;\n",
       "    }\n",
       "\n",
       "    .dataframe tbody tr th {\n",
       "        vertical-align: top;\n",
       "    }\n",
       "\n",
       "    .dataframe thead th {\n",
       "        text-align: right;\n",
       "    }\n",
       "</style>\n",
       "<table border=\"1\" class=\"dataframe\">\n",
       "  <thead>\n",
       "    <tr style=\"text-align: right;\">\n",
       "      <th>gender</th>\n",
       "      <th>female</th>\n",
       "      <th>male</th>\n",
       "    </tr>\n",
       "    <tr>\n",
       "      <th>married</th>\n",
       "      <th></th>\n",
       "      <th></th>\n",
       "    </tr>\n",
       "  </thead>\n",
       "  <tbody>\n",
       "    <tr>\n",
       "      <th>0</th>\n",
       "      <td>4.674057</td>\n",
       "      <td>5.082764</td>\n",
       "    </tr>\n",
       "    <tr>\n",
       "      <th>1</th>\n",
       "      <td>4.606319</td>\n",
       "      <td>7.972251</td>\n",
       "    </tr>\n",
       "  </tbody>\n",
       "</table>\n",
       "</div>"
      ],
      "text/plain": [
       "gender     female      male\n",
       "married                    \n",
       "0        4.674057  5.082764\n",
       "1        4.606319  7.972251"
      ]
     },
     "execution_count": 33,
     "metadata": {},
     "output_type": "execute_result"
    }
   ],
   "source": [
    "# showing the average of hourly_wage paid by marital status and gender\n",
    "pd.crosstab([df.married],[df.gender],values=df.hourly_wage,aggfunc=np.average)"
   ]
  },
  {
   "cell_type": "markdown",
   "id": "1906ae35",
   "metadata": {},
   "source": [
    "## statistical test of the independence \n",
    "###### Chi-square test for independence is often used to examine independence between two categorical variables "
   ]
  },
  {
   "cell_type": "code",
   "execution_count": 34,
   "id": "65268a00",
   "metadata": {},
   "outputs": [],
   "source": [
    "from bioinfokit.analys import stat"
   ]
  },
  {
   "cell_type": "code",
   "execution_count": 35,
   "id": "bc3352ad",
   "metadata": {},
   "outputs": [],
   "source": [
    "#conda install -c bioconda bioinfokit"
   ]
  },
  {
   "cell_type": "code",
   "execution_count": 36,
   "id": "b5355a10",
   "metadata": {},
   "outputs": [
    {
     "name": "stdout",
     "output_type": "stream",
     "text": [
      "gender     female      male\n",
      "married                    \n",
      "0        0.578431  0.421569\n",
      "1        0.408100  0.591900\n"
     ]
    }
   ],
   "source": [
    "ctab = pd.crosstab(df.married,df.gender,normalize='index')\n",
    "print(ctab)"
   ]
  },
  {
   "cell_type": "code",
   "execution_count": 37,
   "id": "23d8ce3c",
   "metadata": {},
   "outputs": [],
   "source": [
    "# TEST OF INDEPENDENCE\n",
    "res = stat()"
   ]
  },
  {
   "cell_type": "code",
   "execution_count": 38,
   "id": "edce24c3",
   "metadata": {},
   "outputs": [],
   "source": [
    "res.chisq(df = ctab)"
   ]
  },
  {
   "cell_type": "code",
   "execution_count": 39,
   "id": "e25f45d3",
   "metadata": {},
   "outputs": [
    {
     "name": "stdout",
     "output_type": "stream",
     "text": [
      "\n",
      "Chi-squared test for independence\n",
      "\n",
      "Test              Df    Chi-square    P-value\n",
      "--------------  ----  ------------  ---------\n",
      "Pearson            1       1.37695   0.240622\n",
      "Log-likelihood     1       1.60856   0.204695\n",
      "\n"
     ]
    }
   ],
   "source": [
    "print(res.summary)"
   ]
  },
  {
   "cell_type": "code",
   "execution_count": 40,
   "id": "c42ab206",
   "metadata": {},
   "outputs": [
    {
     "name": "stdout",
     "output_type": "stream",
     "text": [
      "\n",
      "Expected frequency counts\n",
      "\n",
      "      female      male\n",
      "--  --------  --------\n",
      " 0  0.493266  0.506734\n",
      " 1  0.493266  0.506734\n",
      "\n"
     ]
    }
   ],
   "source": [
    "print(res.expected_df)"
   ]
  },
  {
   "cell_type": "code",
   "execution_count": 41,
   "id": "43701061",
   "metadata": {},
   "outputs": [],
   "source": [
    "#install necessary module------- conda install scipy\n",
    "from scipy.stats import chi2_contingency"
   ]
  },
  {
   "cell_type": "code",
   "execution_count": 42,
   "id": "179fe656",
   "metadata": {},
   "outputs": [],
   "source": [
    "stat, p, dof, expected = chi2_contingency(ctab)"
   ]
  },
  {
   "cell_type": "code",
   "execution_count": 43,
   "id": "a5defb61",
   "metadata": {},
   "outputs": [
    {
     "name": "stdout",
     "output_type": "stream",
     "text": [
      "p value is 0.24062155797939022\n",
      "Independent (H0 holds true)\n"
     ]
    }
   ],
   "source": [
    "# interpret p-value\n",
    "alpha = 0.05\n",
    "print(\"p value is \" + str(p))\n",
    "if p <= alpha:\n",
    "    print('Dependent (reject H0)')\n",
    "else:\n",
    "    print('Independent (H0 holds true)')"
   ]
  },
  {
   "cell_type": "markdown",
   "id": "a54bae37",
   "metadata": {},
   "source": [
    "## Q7\n",
    "    Retrieve one or more subset of rows based on two or more criteria and present descriptive statistics on the subset(s)."
   ]
  },
  {
   "cell_type": "code",
   "execution_count": 44,
   "id": "b9629279",
   "metadata": {},
   "outputs": [
    {
     "data": {
      "text/html": [
       "<div>\n",
       "<style scoped>\n",
       "    .dataframe tbody tr th:only-of-type {\n",
       "        vertical-align: middle;\n",
       "    }\n",
       "\n",
       "    .dataframe tbody tr th {\n",
       "        vertical-align: top;\n",
       "    }\n",
       "\n",
       "    .dataframe thead th {\n",
       "        text-align: right;\n",
       "    }\n",
       "</style>\n",
       "<table border=\"1\" class=\"dataframe\">\n",
       "  <thead>\n",
       "    <tr style=\"text-align: right;\">\n",
       "      <th></th>\n",
       "      <th>married</th>\n",
       "      <th>hourly_wage</th>\n",
       "      <th>years_in_education</th>\n",
       "      <th>years_in_employment</th>\n",
       "      <th>num_dependents</th>\n",
       "      <th>gender</th>\n",
       "      <th>race</th>\n",
       "    </tr>\n",
       "  </thead>\n",
       "  <tbody>\n",
       "    <tr>\n",
       "      <th>5</th>\n",
       "      <td>0</td>\n",
       "      <td>11.25</td>\n",
       "      <td>18.0</td>\n",
       "      <td>7.0</td>\n",
       "      <td>0</td>\n",
       "      <td>male</td>\n",
       "      <td>white</td>\n",
       "    </tr>\n",
       "    <tr>\n",
       "      <th>8</th>\n",
       "      <td>1</td>\n",
       "      <td>18.18</td>\n",
       "      <td>17.0</td>\n",
       "      <td>21.0</td>\n",
       "      <td>0</td>\n",
       "      <td>male</td>\n",
       "      <td>white</td>\n",
       "    </tr>\n",
       "    <tr>\n",
       "      <th>13</th>\n",
       "      <td>1</td>\n",
       "      <td>22.20</td>\n",
       "      <td>12.0</td>\n",
       "      <td>15.0</td>\n",
       "      <td>1</td>\n",
       "      <td>male</td>\n",
       "      <td>white</td>\n",
       "    </tr>\n",
       "    <tr>\n",
       "      <th>14</th>\n",
       "      <td>1</td>\n",
       "      <td>17.33</td>\n",
       "      <td>16.0</td>\n",
       "      <td>0.0</td>\n",
       "      <td>1</td>\n",
       "      <td>male</td>\n",
       "      <td>white</td>\n",
       "    </tr>\n",
       "    <tr>\n",
       "      <th>16</th>\n",
       "      <td>0</td>\n",
       "      <td>10.63</td>\n",
       "      <td>13.0</td>\n",
       "      <td>10.0</td>\n",
       "      <td>0</td>\n",
       "      <td>female</td>\n",
       "      <td>white</td>\n",
       "    </tr>\n",
       "    <tr>\n",
       "      <th>...</th>\n",
       "      <td>...</td>\n",
       "      <td>...</td>\n",
       "      <td>...</td>\n",
       "      <td>...</td>\n",
       "      <td>...</td>\n",
       "      <td>...</td>\n",
       "      <td>...</td>\n",
       "    </tr>\n",
       "    <tr>\n",
       "      <th>495</th>\n",
       "      <td>1</td>\n",
       "      <td>12.50</td>\n",
       "      <td>14.0</td>\n",
       "      <td>30.0</td>\n",
       "      <td>0</td>\n",
       "      <td>male</td>\n",
       "      <td>white</td>\n",
       "    </tr>\n",
       "    <tr>\n",
       "      <th>503</th>\n",
       "      <td>1</td>\n",
       "      <td>17.71</td>\n",
       "      <td>16.0</td>\n",
       "      <td>3.0</td>\n",
       "      <td>1</td>\n",
       "      <td>male</td>\n",
       "      <td>white</td>\n",
       "    </tr>\n",
       "    <tr>\n",
       "      <th>511</th>\n",
       "      <td>0</td>\n",
       "      <td>10.00</td>\n",
       "      <td>12.0</td>\n",
       "      <td>0.0</td>\n",
       "      <td>1</td>\n",
       "      <td>male</td>\n",
       "      <td>white</td>\n",
       "    </tr>\n",
       "    <tr>\n",
       "      <th>520</th>\n",
       "      <td>1</td>\n",
       "      <td>15.00</td>\n",
       "      <td>16.0</td>\n",
       "      <td>2.0</td>\n",
       "      <td>2</td>\n",
       "      <td>female</td>\n",
       "      <td>white</td>\n",
       "    </tr>\n",
       "    <tr>\n",
       "      <th>523</th>\n",
       "      <td>1</td>\n",
       "      <td>11.56</td>\n",
       "      <td>16.0</td>\n",
       "      <td>1.0</td>\n",
       "      <td>0</td>\n",
       "      <td>male</td>\n",
       "      <td>white</td>\n",
       "    </tr>\n",
       "  </tbody>\n",
       "</table>\n",
       "<p>66 rows × 7 columns</p>\n",
       "</div>"
      ],
      "text/plain": [
       "     married  hourly_wage  years_in_education  years_in_employment  \\\n",
       "5          0        11.25                18.0                  7.0   \n",
       "8          1        18.18                17.0                 21.0   \n",
       "13         1        22.20                12.0                 15.0   \n",
       "14         1        17.33                16.0                  0.0   \n",
       "16         0        10.63                13.0                 10.0   \n",
       "..       ...          ...                 ...                  ...   \n",
       "495        1        12.50                14.0                 30.0   \n",
       "503        1        17.71                16.0                  3.0   \n",
       "511        0        10.00                12.0                  0.0   \n",
       "520        1        15.00                16.0                  2.0   \n",
       "523        1        11.56                16.0                  1.0   \n",
       "\n",
       "     num_dependents  gender   race  \n",
       "5                 0    male  white  \n",
       "8                 0    male  white  \n",
       "13                1    male  white  \n",
       "14                1    male  white  \n",
       "16                0  female  white  \n",
       "..              ...     ...    ...  \n",
       "495               0    male  white  \n",
       "503               1    male  white  \n",
       "511               1    male  white  \n",
       "520               2  female  white  \n",
       "523               0    male  white  \n",
       "\n",
       "[66 rows x 7 columns]"
      ]
     },
     "execution_count": 44,
     "metadata": {},
     "output_type": "execute_result"
    }
   ],
   "source": [
    "subset = df[df[\"hourly_wage\"] >= 10]\n",
    "subset"
   ]
  },
  {
   "cell_type": "code",
   "execution_count": 45,
   "id": "c339d1e6",
   "metadata": {},
   "outputs": [
    {
     "data": {
      "text/html": [
       "<div>\n",
       "<style scoped>\n",
       "    .dataframe tbody tr th:only-of-type {\n",
       "        vertical-align: middle;\n",
       "    }\n",
       "\n",
       "    .dataframe tbody tr th {\n",
       "        vertical-align: top;\n",
       "    }\n",
       "\n",
       "    .dataframe thead th {\n",
       "        text-align: right;\n",
       "    }\n",
       "</style>\n",
       "<table border=\"1\" class=\"dataframe\">\n",
       "  <thead>\n",
       "    <tr style=\"text-align: right;\">\n",
       "      <th></th>\n",
       "      <th>married</th>\n",
       "      <th>hourly_wage</th>\n",
       "      <th>years_in_education</th>\n",
       "      <th>years_in_employment</th>\n",
       "      <th>num_dependents</th>\n",
       "      <th>gender</th>\n",
       "      <th>race</th>\n",
       "    </tr>\n",
       "  </thead>\n",
       "  <tbody>\n",
       "    <tr>\n",
       "      <th>0</th>\n",
       "      <td>1</td>\n",
       "      <td>3.240000</td>\n",
       "      <td>12.0</td>\n",
       "      <td>2.0</td>\n",
       "      <td>3</td>\n",
       "      <td>female</td>\n",
       "      <td>white</td>\n",
       "    </tr>\n",
       "    <tr>\n",
       "      <th>1</th>\n",
       "      <td>0</td>\n",
       "      <td>3.000000</td>\n",
       "      <td>11.0</td>\n",
       "      <td>0.0</td>\n",
       "      <td>2</td>\n",
       "      <td>male</td>\n",
       "      <td>white</td>\n",
       "    </tr>\n",
       "    <tr>\n",
       "      <th>2</th>\n",
       "      <td>1</td>\n",
       "      <td>6.000000</td>\n",
       "      <td>8.0</td>\n",
       "      <td>28.0</td>\n",
       "      <td>0</td>\n",
       "      <td>male</td>\n",
       "      <td>white</td>\n",
       "    </tr>\n",
       "    <tr>\n",
       "      <th>3</th>\n",
       "      <td>1</td>\n",
       "      <td>5.300000</td>\n",
       "      <td>12.0</td>\n",
       "      <td>2.0</td>\n",
       "      <td>1</td>\n",
       "      <td>male</td>\n",
       "      <td>white</td>\n",
       "    </tr>\n",
       "    <tr>\n",
       "      <th>4</th>\n",
       "      <td>1</td>\n",
       "      <td>8.750000</td>\n",
       "      <td>16.0</td>\n",
       "      <td>8.0</td>\n",
       "      <td>0</td>\n",
       "      <td>male</td>\n",
       "      <td>white</td>\n",
       "    </tr>\n",
       "    <tr>\n",
       "      <th>...</th>\n",
       "      <td>...</td>\n",
       "      <td>...</td>\n",
       "      <td>...</td>\n",
       "      <td>...</td>\n",
       "      <td>...</td>\n",
       "      <td>...</td>\n",
       "      <td>...</td>\n",
       "    </tr>\n",
       "    <tr>\n",
       "      <th>518</th>\n",
       "      <td>1</td>\n",
       "      <td>4.750000</td>\n",
       "      <td>13.0</td>\n",
       "      <td>1.0</td>\n",
       "      <td>0</td>\n",
       "      <td>male</td>\n",
       "      <td>white</td>\n",
       "    </tr>\n",
       "    <tr>\n",
       "      <th>519</th>\n",
       "      <td>0</td>\n",
       "      <td>5.650000</td>\n",
       "      <td>12.0</td>\n",
       "      <td>0.0</td>\n",
       "      <td>0</td>\n",
       "      <td>male</td>\n",
       "      <td>white</td>\n",
       "    </tr>\n",
       "    <tr>\n",
       "      <th>521</th>\n",
       "      <td>0</td>\n",
       "      <td>2.270000</td>\n",
       "      <td>10.0</td>\n",
       "      <td>0.0</td>\n",
       "      <td>3</td>\n",
       "      <td>female</td>\n",
       "      <td>white</td>\n",
       "    </tr>\n",
       "    <tr>\n",
       "      <th>522</th>\n",
       "      <td>1</td>\n",
       "      <td>4.670000</td>\n",
       "      <td>15.0</td>\n",
       "      <td>18.0</td>\n",
       "      <td>3</td>\n",
       "      <td>male</td>\n",
       "      <td>white</td>\n",
       "    </tr>\n",
       "    <tr>\n",
       "      <th>524</th>\n",
       "      <td>0</td>\n",
       "      <td>5.917737</td>\n",
       "      <td>14.0</td>\n",
       "      <td>4.0</td>\n",
       "      <td>2</td>\n",
       "      <td>female</td>\n",
       "      <td>nonwhite</td>\n",
       "    </tr>\n",
       "  </tbody>\n",
       "</table>\n",
       "<p>459 rows × 7 columns</p>\n",
       "</div>"
      ],
      "text/plain": [
       "     married  hourly_wage  years_in_education  years_in_employment  \\\n",
       "0          1     3.240000                12.0                  2.0   \n",
       "1          0     3.000000                11.0                  0.0   \n",
       "2          1     6.000000                 8.0                 28.0   \n",
       "3          1     5.300000                12.0                  2.0   \n",
       "4          1     8.750000                16.0                  8.0   \n",
       "..       ...          ...                 ...                  ...   \n",
       "518        1     4.750000                13.0                  1.0   \n",
       "519        0     5.650000                12.0                  0.0   \n",
       "521        0     2.270000                10.0                  0.0   \n",
       "522        1     4.670000                15.0                 18.0   \n",
       "524        0     5.917737                14.0                  4.0   \n",
       "\n",
       "     num_dependents  gender      race  \n",
       "0                 3  female     white  \n",
       "1                 2    male     white  \n",
       "2                 0    male     white  \n",
       "3                 1    male     white  \n",
       "4                 0    male     white  \n",
       "..              ...     ...       ...  \n",
       "518               0    male     white  \n",
       "519               0    male     white  \n",
       "521               3  female     white  \n",
       "522               3    male     white  \n",
       "524               2  female  nonwhite  \n",
       "\n",
       "[459 rows x 7 columns]"
      ]
     },
     "execution_count": 45,
     "metadata": {},
     "output_type": "execute_result"
    }
   ],
   "source": [
    "subset = df[df[\"hourly_wage\"] < 10]\n",
    "subset"
   ]
  },
  {
   "cell_type": "code",
   "execution_count": 46,
   "id": "4bd541a2",
   "metadata": {},
   "outputs": [
    {
     "data": {
      "text/plain": [
       "13     12.000000\n",
       "57     18.000000\n",
       "110    12.557471\n",
       "184    12.000000\n",
       "227    16.000000\n",
       "438    12.000000\n",
       "Name: years_in_education, dtype: float64"
      ]
     },
     "execution_count": 46,
     "metadata": {},
     "output_type": "execute_result"
    }
   ],
   "source": [
    "df[df['hourly_wage']>=20]['years_in_education']"
   ]
  },
  {
   "cell_type": "code",
   "execution_count": 47,
   "id": "938d1574",
   "metadata": {},
   "outputs": [
    {
     "data": {
      "text/html": [
       "<div>\n",
       "<style scoped>\n",
       "    .dataframe tbody tr th:only-of-type {\n",
       "        vertical-align: middle;\n",
       "    }\n",
       "\n",
       "    .dataframe tbody tr th {\n",
       "        vertical-align: top;\n",
       "    }\n",
       "\n",
       "    .dataframe thead th {\n",
       "        text-align: right;\n",
       "    }\n",
       "</style>\n",
       "<table border=\"1\" class=\"dataframe\">\n",
       "  <thead>\n",
       "    <tr style=\"text-align: right;\">\n",
       "      <th></th>\n",
       "      <th>married</th>\n",
       "      <th>hourly_wage</th>\n",
       "      <th>years_in_education</th>\n",
       "      <th>years_in_employment</th>\n",
       "      <th>num_dependents</th>\n",
       "      <th>gender</th>\n",
       "      <th>race</th>\n",
       "    </tr>\n",
       "  </thead>\n",
       "  <tbody>\n",
       "    <tr>\n",
       "      <th>count</th>\n",
       "      <td>459.000000</td>\n",
       "      <td>459.000000</td>\n",
       "      <td>459.000000</td>\n",
       "      <td>459.000000</td>\n",
       "      <td>459.000000</td>\n",
       "      <td>459</td>\n",
       "      <td>459</td>\n",
       "    </tr>\n",
       "    <tr>\n",
       "      <th>unique</th>\n",
       "      <td>NaN</td>\n",
       "      <td>NaN</td>\n",
       "      <td>NaN</td>\n",
       "      <td>NaN</td>\n",
       "      <td>NaN</td>\n",
       "      <td>2</td>\n",
       "      <td>2</td>\n",
       "    </tr>\n",
       "    <tr>\n",
       "      <th>top</th>\n",
       "      <td>NaN</td>\n",
       "      <td>NaN</td>\n",
       "      <td>NaN</td>\n",
       "      <td>NaN</td>\n",
       "      <td>NaN</td>\n",
       "      <td>female</td>\n",
       "      <td>white</td>\n",
       "    </tr>\n",
       "    <tr>\n",
       "      <th>freq</th>\n",
       "      <td>NaN</td>\n",
       "      <td>NaN</td>\n",
       "      <td>NaN</td>\n",
       "      <td>NaN</td>\n",
       "      <td>NaN</td>\n",
       "      <td>240</td>\n",
       "      <td>412</td>\n",
       "    </tr>\n",
       "    <tr>\n",
       "      <th>mean</th>\n",
       "      <td>0.586057</td>\n",
       "      <td>4.811834</td>\n",
       "      <td>12.264831</td>\n",
       "      <td>4.435541</td>\n",
       "      <td>1.045752</td>\n",
       "      <td>NaN</td>\n",
       "      <td>NaN</td>\n",
       "    </tr>\n",
       "    <tr>\n",
       "      <th>std</th>\n",
       "      <td>0.493076</td>\n",
       "      <td>1.888302</td>\n",
       "      <td>2.665123</td>\n",
       "      <td>6.521361</td>\n",
       "      <td>1.265980</td>\n",
       "      <td>NaN</td>\n",
       "      <td>NaN</td>\n",
       "    </tr>\n",
       "    <tr>\n",
       "      <th>min</th>\n",
       "      <td>0.000000</td>\n",
       "      <td>0.530000</td>\n",
       "      <td>0.000000</td>\n",
       "      <td>0.000000</td>\n",
       "      <td>0.000000</td>\n",
       "      <td>NaN</td>\n",
       "      <td>NaN</td>\n",
       "    </tr>\n",
       "    <tr>\n",
       "      <th>25%</th>\n",
       "      <td>0.000000</td>\n",
       "      <td>3.250000</td>\n",
       "      <td>12.000000</td>\n",
       "      <td>0.000000</td>\n",
       "      <td>0.000000</td>\n",
       "      <td>NaN</td>\n",
       "      <td>NaN</td>\n",
       "    </tr>\n",
       "    <tr>\n",
       "      <th>50%</th>\n",
       "      <td>1.000000</td>\n",
       "      <td>4.500000</td>\n",
       "      <td>12.000000</td>\n",
       "      <td>2.000000</td>\n",
       "      <td>1.000000</td>\n",
       "      <td>NaN</td>\n",
       "      <td>NaN</td>\n",
       "    </tr>\n",
       "    <tr>\n",
       "      <th>75%</th>\n",
       "      <td>1.000000</td>\n",
       "      <td>6.150000</td>\n",
       "      <td>14.000000</td>\n",
       "      <td>5.152216</td>\n",
       "      <td>2.000000</td>\n",
       "      <td>NaN</td>\n",
       "      <td>NaN</td>\n",
       "    </tr>\n",
       "    <tr>\n",
       "      <th>max</th>\n",
       "      <td>1.000000</td>\n",
       "      <td>9.850000</td>\n",
       "      <td>18.000000</td>\n",
       "      <td>44.000000</td>\n",
       "      <td>6.000000</td>\n",
       "      <td>NaN</td>\n",
       "      <td>NaN</td>\n",
       "    </tr>\n",
       "  </tbody>\n",
       "</table>\n",
       "</div>"
      ],
      "text/plain": [
       "           married  hourly_wage  years_in_education  years_in_employment  \\\n",
       "count   459.000000   459.000000          459.000000           459.000000   \n",
       "unique         NaN          NaN                 NaN                  NaN   \n",
       "top            NaN          NaN                 NaN                  NaN   \n",
       "freq           NaN          NaN                 NaN                  NaN   \n",
       "mean      0.586057     4.811834           12.264831             4.435541   \n",
       "std       0.493076     1.888302            2.665123             6.521361   \n",
       "min       0.000000     0.530000            0.000000             0.000000   \n",
       "25%       0.000000     3.250000           12.000000             0.000000   \n",
       "50%       1.000000     4.500000           12.000000             2.000000   \n",
       "75%       1.000000     6.150000           14.000000             5.152216   \n",
       "max       1.000000     9.850000           18.000000            44.000000   \n",
       "\n",
       "        num_dependents  gender   race  \n",
       "count       459.000000     459    459  \n",
       "unique             NaN       2      2  \n",
       "top                NaN  female  white  \n",
       "freq               NaN     240    412  \n",
       "mean          1.045752     NaN    NaN  \n",
       "std           1.265980     NaN    NaN  \n",
       "min           0.000000     NaN    NaN  \n",
       "25%           0.000000     NaN    NaN  \n",
       "50%           1.000000     NaN    NaN  \n",
       "75%           2.000000     NaN    NaN  \n",
       "max           6.000000     NaN    NaN  "
      ]
     },
     "execution_count": 47,
     "metadata": {},
     "output_type": "execute_result"
    }
   ],
   "source": [
    "subset.describe(include = \"all\")"
   ]
  },
  {
   "cell_type": "code",
   "execution_count": 48,
   "id": "65ef75c6",
   "metadata": {},
   "outputs": [
    {
     "data": {
      "text/plain": [
       "married                 1.0\n",
       "hourly_wage             4.5\n",
       "years_in_education     12.0\n",
       "years_in_employment     2.0\n",
       "num_dependents          1.0\n",
       "dtype: float64"
      ]
     },
     "execution_count": 48,
     "metadata": {},
     "output_type": "execute_result"
    }
   ],
   "source": [
    "subset.median()"
   ]
  },
  {
   "cell_type": "code",
   "execution_count": 49,
   "id": "44dd6565",
   "metadata": {},
   "outputs": [
    {
     "data": {
      "text/html": [
       "<div>\n",
       "<style scoped>\n",
       "    .dataframe tbody tr th:only-of-type {\n",
       "        vertical-align: middle;\n",
       "    }\n",
       "\n",
       "    .dataframe tbody tr th {\n",
       "        vertical-align: top;\n",
       "    }\n",
       "\n",
       "    .dataframe thead th {\n",
       "        text-align: right;\n",
       "    }\n",
       "</style>\n",
       "<table border=\"1\" class=\"dataframe\">\n",
       "  <thead>\n",
       "    <tr style=\"text-align: right;\">\n",
       "      <th></th>\n",
       "      <th>married</th>\n",
       "      <th>hourly_wage</th>\n",
       "      <th>years_in_education</th>\n",
       "      <th>years_in_employment</th>\n",
       "      <th>num_dependents</th>\n",
       "      <th>gender</th>\n",
       "      <th>race</th>\n",
       "    </tr>\n",
       "  </thead>\n",
       "  <tbody>\n",
       "    <tr>\n",
       "      <th>0</th>\n",
       "      <td>1</td>\n",
       "      <td>3.0</td>\n",
       "      <td>12.0</td>\n",
       "      <td>0.0</td>\n",
       "      <td>0</td>\n",
       "      <td>female</td>\n",
       "      <td>white</td>\n",
       "    </tr>\n",
       "  </tbody>\n",
       "</table>\n",
       "</div>"
      ],
      "text/plain": [
       "   married  hourly_wage  years_in_education  years_in_employment  \\\n",
       "0        1          3.0                12.0                  0.0   \n",
       "\n",
       "   num_dependents  gender   race  \n",
       "0               0  female  white  "
      ]
     },
     "execution_count": 49,
     "metadata": {},
     "output_type": "execute_result"
    }
   ],
   "source": [
    "subset.mode()"
   ]
  },
  {
   "cell_type": "code",
   "execution_count": 50,
   "id": "52959986",
   "metadata": {},
   "outputs": [
    {
     "data": {
      "text/plain": [
       "married                 0.243124\n",
       "hourly_wage             3.565685\n",
       "years_in_education      7.102879\n",
       "years_in_employment    42.528155\n",
       "num_dependents          1.602706\n",
       "dtype: float64"
      ]
     },
     "execution_count": 50,
     "metadata": {},
     "output_type": "execute_result"
    }
   ],
   "source": [
    "subset.var()"
   ]
  },
  {
   "cell_type": "code",
   "execution_count": 51,
   "id": "38533529",
   "metadata": {},
   "outputs": [
    {
     "data": {
      "text/plain": [
       "married                0.493076\n",
       "hourly_wage            1.888302\n",
       "years_in_education     2.665123\n",
       "years_in_employment    6.521361\n",
       "num_dependents         1.265980\n",
       "dtype: float64"
      ]
     },
     "execution_count": 51,
     "metadata": {},
     "output_type": "execute_result"
    }
   ],
   "source": [
    "subset.std()"
   ]
  },
  {
   "cell_type": "code",
   "execution_count": 52,
   "id": "366dd1cd",
   "metadata": {},
   "outputs": [
    {
     "data": {
      "text/plain": [
       "married               -0.350588\n",
       "hourly_wage            0.681592\n",
       "years_in_education    -0.767353\n",
       "years_in_employment    2.423062\n",
       "num_dependents         1.217217\n",
       "dtype: float64"
      ]
     },
     "execution_count": 52,
     "metadata": {},
     "output_type": "execute_result"
    }
   ],
   "source": [
    "subset.skew()"
   ]
  },
  {
   "cell_type": "code",
   "execution_count": 53,
   "id": "25c675db",
   "metadata": {},
   "outputs": [
    {
     "data": {
      "text/plain": [
       "married               -1.885322\n",
       "hourly_wage           -0.320666\n",
       "years_in_education     2.491606\n",
       "years_in_employment    6.901396\n",
       "num_dependents         1.117293\n",
       "dtype: float64"
      ]
     },
     "execution_count": 53,
     "metadata": {},
     "output_type": "execute_result"
    }
   ],
   "source": [
    "subset.kurt()"
   ]
  },
  {
   "cell_type": "code",
   "execution_count": null,
   "id": "3d1a00a2",
   "metadata": {},
   "outputs": [],
   "source": []
  },
  {
   "cell_type": "markdown",
   "id": "3a3fc631",
   "metadata": {},
   "source": [
    "## Q8\n",
    "    Conduct a statistical test of the significance of the difference between the means of two subsets of the data."
   ]
  },
  {
   "cell_type": "code",
   "execution_count": 54,
   "id": "e6fd94d6",
   "metadata": {},
   "outputs": [],
   "source": [
    "from scipy.stats import ttest_ind\n",
    "res = ttest_ind(df[\"years_in_education\"],df[\"hourly_wage\"])"
   ]
  },
  {
   "cell_type": "code",
   "execution_count": 55,
   "id": "ddc3337a",
   "metadata": {},
   "outputs": [
    {
     "name": "stdout",
     "output_type": "stream",
     "text": [
      "Ttest_indResult(statistic=33.17272461396435, pvalue=1.4940924895751983e-165)\n"
     ]
    }
   ],
   "source": [
    "print(res)"
   ]
  },
  {
   "cell_type": "code",
   "execution_count": 56,
   "id": "7a727f09",
   "metadata": {},
   "outputs": [
    {
     "name": "stdout",
     "output_type": "stream",
     "text": [
      "1.4940924895751983e-165\n"
     ]
    }
   ],
   "source": [
    "res = ttest_ind(df[\"years_in_education\"],df[\"hourly_wage\"]).pvalue\n",
    "print(res)"
   ]
  },
  {
   "cell_type": "code",
   "execution_count": 57,
   "id": "35297428",
   "metadata": {},
   "outputs": [],
   "source": [
    "from scipy import stats"
   ]
  },
  {
   "cell_type": "code",
   "execution_count": 58,
   "id": "75faad9d",
   "metadata": {},
   "outputs": [
    {
     "data": {
      "text/plain": [
       "Ttest_indResult(statistic=8.031421687181917, pvalue=6.421537070785262e-15)"
      ]
     },
     "execution_count": 58,
     "metadata": {},
     "output_type": "execute_result"
    }
   ],
   "source": [
    "stats.ttest_ind(df['hourly_wage'][df['gender'] == 'male'],\n",
    "                df['hourly_wage'][df['gender'] == 'female'])"
   ]
  },
  {
   "cell_type": "markdown",
   "id": "1a9e7185",
   "metadata": {},
   "source": [
    "P-value < 0.001 hence Significance level is high"
   ]
  },
  {
   "cell_type": "code",
   "execution_count": null,
   "id": "dd61a404",
   "metadata": {},
   "outputs": [],
   "source": []
  },
  {
   "cell_type": "markdown",
   "id": "e127e21d",
   "metadata": {},
   "source": [
    "## Q9\n",
    "    Create one or more tables that group the data by a certain categorical variable and displays summarized information for each group (e.g. the mean or sum within the group)."
   ]
  },
  {
   "cell_type": "code",
   "execution_count": 59,
   "id": "bfc52b6b",
   "metadata": {},
   "outputs": [
    {
     "data": {
      "text/plain": [
       "hourly_wage\n",
       "0.53     12.000000\n",
       "1.43     12.000000\n",
       "1.50     10.000000\n",
       "1.63     12.000000\n",
       "1.67     10.000000\n",
       "           ...    \n",
       "21.63    18.000000\n",
       "21.86    12.000000\n",
       "22.20    12.000000\n",
       "22.86    16.000000\n",
       "24.98    12.557471\n",
       "Name: years_in_education, Length: 238, dtype: float64"
      ]
     },
     "execution_count": 59,
     "metadata": {},
     "output_type": "execute_result"
    }
   ],
   "source": [
    "# mean of hourly wage and their corresponding years in education\n",
    "df.groupby('hourly_wage').mean()['years_in_education']"
   ]
  },
  {
   "cell_type": "code",
   "execution_count": 60,
   "id": "b83fbaca",
   "metadata": {},
   "outputs": [
    {
     "data": {
      "text/html": [
       "<div>\n",
       "<style scoped>\n",
       "    .dataframe tbody tr th:only-of-type {\n",
       "        vertical-align: middle;\n",
       "    }\n",
       "\n",
       "    .dataframe tbody tr th {\n",
       "        vertical-align: top;\n",
       "    }\n",
       "\n",
       "    .dataframe thead th {\n",
       "        text-align: right;\n",
       "    }\n",
       "</style>\n",
       "<table border=\"1\" class=\"dataframe\">\n",
       "  <thead>\n",
       "    <tr style=\"text-align: right;\">\n",
       "      <th></th>\n",
       "      <th>married</th>\n",
       "      <th>hourly_wage</th>\n",
       "      <th>years_in_education</th>\n",
       "      <th>years_in_employment</th>\n",
       "      <th>num_dependents</th>\n",
       "      <th>gender</th>\n",
       "      <th>race</th>\n",
       "    </tr>\n",
       "  </thead>\n",
       "  <tbody>\n",
       "    <tr>\n",
       "      <th>110</th>\n",
       "      <td>1</td>\n",
       "      <td>24.98</td>\n",
       "      <td>12.557471</td>\n",
       "      <td>25.0</td>\n",
       "      <td>0</td>\n",
       "      <td>male</td>\n",
       "      <td>white</td>\n",
       "    </tr>\n",
       "  </tbody>\n",
       "</table>\n",
       "</div>"
      ],
      "text/plain": [
       "     married  hourly_wage  years_in_education  years_in_employment  \\\n",
       "110        1        24.98           12.557471                 25.0   \n",
       "\n",
       "     num_dependents gender   race  \n",
       "110               0   male  white  "
      ]
     },
     "execution_count": 60,
     "metadata": {},
     "output_type": "execute_result"
    }
   ],
   "source": [
    "# maximum hourly wages input\n",
    "df[df['hourly_wage'] == df['hourly_wage'].max()]"
   ]
  },
  {
   "cell_type": "code",
   "execution_count": 61,
   "id": "8c517afe",
   "metadata": {},
   "outputs": [
    {
     "data": {
      "text/html": [
       "<div>\n",
       "<style scoped>\n",
       "    .dataframe tbody tr th:only-of-type {\n",
       "        vertical-align: middle;\n",
       "    }\n",
       "\n",
       "    .dataframe tbody tr th {\n",
       "        vertical-align: top;\n",
       "    }\n",
       "\n",
       "    .dataframe thead th {\n",
       "        text-align: right;\n",
       "    }\n",
       "</style>\n",
       "<table border=\"1\" class=\"dataframe\">\n",
       "  <thead>\n",
       "    <tr style=\"text-align: right;\">\n",
       "      <th></th>\n",
       "      <th>married</th>\n",
       "      <th>hourly_wage</th>\n",
       "      <th>years_in_education</th>\n",
       "      <th>years_in_employment</th>\n",
       "      <th>num_dependents</th>\n",
       "      <th>gender</th>\n",
       "      <th>race</th>\n",
       "    </tr>\n",
       "  </thead>\n",
       "  <tbody>\n",
       "    <tr>\n",
       "      <th>22</th>\n",
       "      <td>0</td>\n",
       "      <td>0.53</td>\n",
       "      <td>12.0</td>\n",
       "      <td>1.0</td>\n",
       "      <td>0</td>\n",
       "      <td>female</td>\n",
       "      <td>white</td>\n",
       "    </tr>\n",
       "  </tbody>\n",
       "</table>\n",
       "</div>"
      ],
      "text/plain": [
       "    married  hourly_wage  years_in_education  years_in_employment  \\\n",
       "22        0         0.53                12.0                  1.0   \n",
       "\n",
       "    num_dependents  gender   race  \n",
       "22               0  female  white  "
      ]
     },
     "execution_count": 61,
     "metadata": {},
     "output_type": "execute_result"
    }
   ],
   "source": [
    "# minimum hourly wages input\n",
    "df[df['hourly_wage'] == df['hourly_wage'].min()]"
   ]
  },
  {
   "cell_type": "code",
   "execution_count": 62,
   "id": "80cceea6",
   "metadata": {
    "scrolled": true
   },
   "outputs": [
    {
     "data": {
      "text/html": [
       "<div>\n",
       "<style scoped>\n",
       "    .dataframe tbody tr th:only-of-type {\n",
       "        vertical-align: middle;\n",
       "    }\n",
       "\n",
       "    .dataframe tbody tr th {\n",
       "        vertical-align: top;\n",
       "    }\n",
       "\n",
       "    .dataframe thead th {\n",
       "        text-align: right;\n",
       "    }\n",
       "</style>\n",
       "<table border=\"1\" class=\"dataframe\">\n",
       "  <thead>\n",
       "    <tr style=\"text-align: right;\">\n",
       "      <th></th>\n",
       "      <th>married</th>\n",
       "      <th>hourly_wage</th>\n",
       "      <th>years_in_education</th>\n",
       "      <th>years_in_employment</th>\n",
       "      <th>num_dependents</th>\n",
       "      <th>gender</th>\n",
       "      <th>race</th>\n",
       "    </tr>\n",
       "  </thead>\n",
       "  <tbody>\n",
       "    <tr>\n",
       "      <th>13</th>\n",
       "      <td>1</td>\n",
       "      <td>22.20</td>\n",
       "      <td>12.000000</td>\n",
       "      <td>15.0</td>\n",
       "      <td>1</td>\n",
       "      <td>male</td>\n",
       "      <td>white</td>\n",
       "    </tr>\n",
       "    <tr>\n",
       "      <th>57</th>\n",
       "      <td>0</td>\n",
       "      <td>21.63</td>\n",
       "      <td>18.000000</td>\n",
       "      <td>8.0</td>\n",
       "      <td>0</td>\n",
       "      <td>female</td>\n",
       "      <td>white</td>\n",
       "    </tr>\n",
       "    <tr>\n",
       "      <th>110</th>\n",
       "      <td>1</td>\n",
       "      <td>24.98</td>\n",
       "      <td>12.557471</td>\n",
       "      <td>25.0</td>\n",
       "      <td>0</td>\n",
       "      <td>male</td>\n",
       "      <td>white</td>\n",
       "    </tr>\n",
       "    <tr>\n",
       "      <th>184</th>\n",
       "      <td>1</td>\n",
       "      <td>21.86</td>\n",
       "      <td>12.000000</td>\n",
       "      <td>16.0</td>\n",
       "      <td>3</td>\n",
       "      <td>male</td>\n",
       "      <td>white</td>\n",
       "    </tr>\n",
       "    <tr>\n",
       "      <th>227</th>\n",
       "      <td>1</td>\n",
       "      <td>22.86</td>\n",
       "      <td>16.000000</td>\n",
       "      <td>7.0</td>\n",
       "      <td>2</td>\n",
       "      <td>male</td>\n",
       "      <td>white</td>\n",
       "    </tr>\n",
       "    <tr>\n",
       "      <th>438</th>\n",
       "      <td>1</td>\n",
       "      <td>20.00</td>\n",
       "      <td>12.000000</td>\n",
       "      <td>4.0</td>\n",
       "      <td>1</td>\n",
       "      <td>male</td>\n",
       "      <td>white</td>\n",
       "    </tr>\n",
       "  </tbody>\n",
       "</table>\n",
       "</div>"
      ],
      "text/plain": [
       "     married  hourly_wage  years_in_education  years_in_employment  \\\n",
       "13         1        22.20           12.000000                 15.0   \n",
       "57         0        21.63           18.000000                  8.0   \n",
       "110        1        24.98           12.557471                 25.0   \n",
       "184        1        21.86           12.000000                 16.0   \n",
       "227        1        22.86           16.000000                  7.0   \n",
       "438        1        20.00           12.000000                  4.0   \n",
       "\n",
       "     num_dependents  gender   race  \n",
       "13                1    male  white  \n",
       "57                0  female  white  \n",
       "110               0    male  white  \n",
       "184               3    male  white  \n",
       "227               2    male  white  \n",
       "438               1    male  white  "
      ]
     },
     "execution_count": 62,
     "metadata": {},
     "output_type": "execute_result"
    }
   ],
   "source": [
    "# the highest earnings also has high level of education\n",
    "a = df[(df[\"hourly_wage\"] >= 20) & (df[\"years_in_education\"] >=10)]\n",
    "a"
   ]
  },
  {
   "cell_type": "code",
   "execution_count": 63,
   "id": "75b9f9f6",
   "metadata": {},
   "outputs": [
    {
     "data": {
      "text/plain": [
       "married                42\n",
       "hourly_wage            42\n",
       "years_in_education     42\n",
       "years_in_employment    42\n",
       "num_dependents         42\n",
       "gender                 42\n",
       "race                   42\n",
       "dtype: int64"
      ]
     },
     "execution_count": 63,
     "metadata": {},
     "output_type": "execute_result"
    }
   ],
   "source": [
    "# males have higher dependents than females\n",
    "u = df[(df[\"gender\"] == 'male') & (df[\"num_dependents\"] >= 3)]\n",
    "u.count()"
   ]
  },
  {
   "cell_type": "code",
   "execution_count": 64,
   "id": "257b7799",
   "metadata": {},
   "outputs": [
    {
     "data": {
      "text/plain": [
       "married                27\n",
       "hourly_wage            27\n",
       "years_in_education     27\n",
       "years_in_employment    27\n",
       "num_dependents         27\n",
       "gender                 27\n",
       "race                   27\n",
       "dtype: int64"
      ]
     },
     "execution_count": 64,
     "metadata": {},
     "output_type": "execute_result"
    }
   ],
   "source": [
    "u = df[(df[\"gender\"] == 'female') & (df[\"num_dependents\"] >= 3)]\n",
    "u.count()"
   ]
  },
  {
   "cell_type": "code",
   "execution_count": 65,
   "id": "7c8f43ea",
   "metadata": {
    "scrolled": true
   },
   "outputs": [
    {
     "data": {
      "text/html": [
       "<div>\n",
       "<style scoped>\n",
       "    .dataframe tbody tr th:only-of-type {\n",
       "        vertical-align: middle;\n",
       "    }\n",
       "\n",
       "    .dataframe tbody tr th {\n",
       "        vertical-align: top;\n",
       "    }\n",
       "\n",
       "    .dataframe thead tr th {\n",
       "        text-align: left;\n",
       "    }\n",
       "\n",
       "    .dataframe thead tr:last-of-type th {\n",
       "        text-align: right;\n",
       "    }\n",
       "</style>\n",
       "<table border=\"1\" class=\"dataframe\">\n",
       "  <thead>\n",
       "    <tr>\n",
       "      <th></th>\n",
       "      <th colspan=\"2\" halign=\"left\">married</th>\n",
       "      <th colspan=\"2\" halign=\"left\">hourly_wage</th>\n",
       "      <th colspan=\"2\" halign=\"left\">years_in_education</th>\n",
       "      <th colspan=\"2\" halign=\"left\">years_in_employment</th>\n",
       "      <th colspan=\"2\" halign=\"left\">num_dependents</th>\n",
       "    </tr>\n",
       "    <tr>\n",
       "      <th></th>\n",
       "      <th>sum</th>\n",
       "      <th>mean</th>\n",
       "      <th>sum</th>\n",
       "      <th>mean</th>\n",
       "      <th>sum</th>\n",
       "      <th>mean</th>\n",
       "      <th>sum</th>\n",
       "      <th>mean</th>\n",
       "      <th>sum</th>\n",
       "      <th>mean</th>\n",
       "    </tr>\n",
       "    <tr>\n",
       "      <th>gender</th>\n",
       "      <th></th>\n",
       "      <th></th>\n",
       "      <th></th>\n",
       "      <th></th>\n",
       "      <th></th>\n",
       "      <th></th>\n",
       "      <th></th>\n",
       "      <th></th>\n",
       "      <th></th>\n",
       "      <th></th>\n",
       "    </tr>\n",
       "  </thead>\n",
       "  <tbody>\n",
       "    <tr>\n",
       "      <th>female</th>\n",
       "      <td>131</td>\n",
       "      <td>0.526104</td>\n",
       "      <td>1154.966422</td>\n",
       "      <td>4.638419</td>\n",
       "      <td>3068.000000</td>\n",
       "      <td>12.321285</td>\n",
       "      <td>927.761079</td>\n",
       "      <td>3.725948</td>\n",
       "      <td>265</td>\n",
       "      <td>1.064257</td>\n",
       "    </tr>\n",
       "    <tr>\n",
       "      <th>male</th>\n",
       "      <td>190</td>\n",
       "      <td>0.688406</td>\n",
       "      <td>1951.845474</td>\n",
       "      <td>7.071904</td>\n",
       "      <td>3524.672414</td>\n",
       "      <td>12.770552</td>\n",
       "      <td>1777.152216</td>\n",
       "      <td>6.438957</td>\n",
       "      <td>283</td>\n",
       "      <td>1.025362</td>\n",
       "    </tr>\n",
       "  </tbody>\n",
       "</table>\n",
       "</div>"
      ],
      "text/plain": [
       "       married            hourly_wage           years_in_education             \\\n",
       "           sum      mean          sum      mean                sum       mean   \n",
       "gender                                                                          \n",
       "female     131  0.526104  1154.966422  4.638419        3068.000000  12.321285   \n",
       "male       190  0.688406  1951.845474  7.071904        3524.672414  12.770552   \n",
       "\n",
       "       years_in_employment           num_dependents            \n",
       "                       sum      mean            sum      mean  \n",
       "gender                                                         \n",
       "female          927.761079  3.725948            265  1.064257  \n",
       "male           1777.152216  6.438957            283  1.025362  "
      ]
     },
     "execution_count": 65,
     "metadata": {},
     "output_type": "execute_result"
    }
   ],
   "source": [
    "df.groupby('gender').agg([np.sum, np.mean])"
   ]
  },
  {
   "cell_type": "code",
   "execution_count": 66,
   "id": "76e2e248",
   "metadata": {},
   "outputs": [
    {
     "data": {
      "text/html": [
       "<div>\n",
       "<style scoped>\n",
       "    .dataframe tbody tr th:only-of-type {\n",
       "        vertical-align: middle;\n",
       "    }\n",
       "\n",
       "    .dataframe tbody tr th {\n",
       "        vertical-align: top;\n",
       "    }\n",
       "\n",
       "    .dataframe thead tr th {\n",
       "        text-align: left;\n",
       "    }\n",
       "\n",
       "    .dataframe thead tr:last-of-type th {\n",
       "        text-align: right;\n",
       "    }\n",
       "</style>\n",
       "<table border=\"1\" class=\"dataframe\">\n",
       "  <thead>\n",
       "    <tr>\n",
       "      <th></th>\n",
       "      <th colspan=\"2\" halign=\"left\">hourly_wage</th>\n",
       "      <th colspan=\"2\" halign=\"left\">years_in_education</th>\n",
       "      <th colspan=\"2\" halign=\"left\">years_in_employment</th>\n",
       "      <th colspan=\"2\" halign=\"left\">num_dependents</th>\n",
       "    </tr>\n",
       "    <tr>\n",
       "      <th></th>\n",
       "      <th>sum</th>\n",
       "      <th>mean</th>\n",
       "      <th>sum</th>\n",
       "      <th>mean</th>\n",
       "      <th>sum</th>\n",
       "      <th>mean</th>\n",
       "      <th>sum</th>\n",
       "      <th>mean</th>\n",
       "    </tr>\n",
       "    <tr>\n",
       "      <th>married</th>\n",
       "      <th></th>\n",
       "      <th></th>\n",
       "      <th></th>\n",
       "      <th></th>\n",
       "      <th></th>\n",
       "      <th></th>\n",
       "      <th></th>\n",
       "      <th></th>\n",
       "    </tr>\n",
       "  </thead>\n",
       "  <tbody>\n",
       "    <tr>\n",
       "      <th>0</th>\n",
       "      <td>988.656422</td>\n",
       "      <td>4.846355</td>\n",
       "      <td>2516.000000</td>\n",
       "      <td>12.333333</td>\n",
       "      <td>611.304432</td>\n",
       "      <td>2.996590</td>\n",
       "      <td>166</td>\n",
       "      <td>0.813725</td>\n",
       "    </tr>\n",
       "    <tr>\n",
       "      <th>1</th>\n",
       "      <td>2118.155474</td>\n",
       "      <td>6.598615</td>\n",
       "      <td>4076.672414</td>\n",
       "      <td>12.699914</td>\n",
       "      <td>2093.608863</td>\n",
       "      <td>6.522146</td>\n",
       "      <td>382</td>\n",
       "      <td>1.190031</td>\n",
       "    </tr>\n",
       "  </tbody>\n",
       "</table>\n",
       "</div>"
      ],
      "text/plain": [
       "         hourly_wage           years_in_education             \\\n",
       "                 sum      mean                sum       mean   \n",
       "married                                                        \n",
       "0         988.656422  4.846355        2516.000000  12.333333   \n",
       "1        2118.155474  6.598615        4076.672414  12.699914   \n",
       "\n",
       "        years_in_employment           num_dependents            \n",
       "                        sum      mean            sum      mean  \n",
       "married                                                         \n",
       "0                611.304432  2.996590            166  0.813725  \n",
       "1               2093.608863  6.522146            382  1.190031  "
      ]
     },
     "execution_count": 66,
     "metadata": {},
     "output_type": "execute_result"
    }
   ],
   "source": [
    "df.groupby('married').agg([np.sum, np.mean])"
   ]
  },
  {
   "cell_type": "code",
   "execution_count": 72,
   "id": "6484bc59",
   "metadata": {},
   "outputs": [
    {
     "data": {
      "text/html": [
       "<div>\n",
       "<style scoped>\n",
       "    .dataframe tbody tr th:only-of-type {\n",
       "        vertical-align: middle;\n",
       "    }\n",
       "\n",
       "    .dataframe tbody tr th {\n",
       "        vertical-align: top;\n",
       "    }\n",
       "\n",
       "    .dataframe thead tr th {\n",
       "        text-align: left;\n",
       "    }\n",
       "\n",
       "    .dataframe thead tr:last-of-type th {\n",
       "        text-align: right;\n",
       "    }\n",
       "</style>\n",
       "<table border=\"1\" class=\"dataframe\">\n",
       "  <thead>\n",
       "    <tr>\n",
       "      <th></th>\n",
       "      <th colspan=\"2\" halign=\"left\">married</th>\n",
       "      <th colspan=\"2\" halign=\"left\">hourly_wage</th>\n",
       "      <th colspan=\"2\" halign=\"left\">years_in_employment</th>\n",
       "      <th colspan=\"2\" halign=\"left\">num_dependents</th>\n",
       "    </tr>\n",
       "    <tr>\n",
       "      <th></th>\n",
       "      <th>sum</th>\n",
       "      <th>mean</th>\n",
       "      <th>sum</th>\n",
       "      <th>mean</th>\n",
       "      <th>sum</th>\n",
       "      <th>mean</th>\n",
       "      <th>sum</th>\n",
       "      <th>mean</th>\n",
       "    </tr>\n",
       "    <tr>\n",
       "      <th>years_in_education</th>\n",
       "      <th></th>\n",
       "      <th></th>\n",
       "      <th></th>\n",
       "      <th></th>\n",
       "      <th></th>\n",
       "      <th></th>\n",
       "      <th></th>\n",
       "      <th></th>\n",
       "    </tr>\n",
       "  </thead>\n",
       "  <tbody>\n",
       "    <tr>\n",
       "      <th>0.000000</th>\n",
       "      <td>1</td>\n",
       "      <td>0.500000</td>\n",
       "      <td>7.060000</td>\n",
       "      <td>3.530000</td>\n",
       "      <td>10.000000</td>\n",
       "      <td>5.000000</td>\n",
       "      <td>2</td>\n",
       "      <td>1.000000</td>\n",
       "    </tr>\n",
       "    <tr>\n",
       "      <th>2.000000</th>\n",
       "      <td>1</td>\n",
       "      <td>1.000000</td>\n",
       "      <td>3.750000</td>\n",
       "      <td>3.750000</td>\n",
       "      <td>13.000000</td>\n",
       "      <td>13.000000</td>\n",
       "      <td>0</td>\n",
       "      <td>0.000000</td>\n",
       "    </tr>\n",
       "    <tr>\n",
       "      <th>3.000000</th>\n",
       "      <td>0</td>\n",
       "      <td>0.000000</td>\n",
       "      <td>2.920000</td>\n",
       "      <td>2.920000</td>\n",
       "      <td>30.000000</td>\n",
       "      <td>30.000000</td>\n",
       "      <td>0</td>\n",
       "      <td>0.000000</td>\n",
       "    </tr>\n",
       "    <tr>\n",
       "      <th>4.000000</th>\n",
       "      <td>3</td>\n",
       "      <td>1.000000</td>\n",
       "      <td>9.510000</td>\n",
       "      <td>3.170000</td>\n",
       "      <td>15.000000</td>\n",
       "      <td>5.000000</td>\n",
       "      <td>6</td>\n",
       "      <td>2.000000</td>\n",
       "    </tr>\n",
       "    <tr>\n",
       "      <th>5.000000</th>\n",
       "      <td>1</td>\n",
       "      <td>1.000000</td>\n",
       "      <td>2.900000</td>\n",
       "      <td>2.900000</td>\n",
       "      <td>0.000000</td>\n",
       "      <td>0.000000</td>\n",
       "      <td>5</td>\n",
       "      <td>5.000000</td>\n",
       "    </tr>\n",
       "    <tr>\n",
       "      <th>6.000000</th>\n",
       "      <td>4</td>\n",
       "      <td>0.666667</td>\n",
       "      <td>23.910000</td>\n",
       "      <td>3.985000</td>\n",
       "      <td>26.000000</td>\n",
       "      <td>4.333333</td>\n",
       "      <td>18</td>\n",
       "      <td>3.000000</td>\n",
       "    </tr>\n",
       "    <tr>\n",
       "      <th>7.000000</th>\n",
       "      <td>2</td>\n",
       "      <td>0.500000</td>\n",
       "      <td>17.550000</td>\n",
       "      <td>4.387500</td>\n",
       "      <td>39.000000</td>\n",
       "      <td>9.750000</td>\n",
       "      <td>9</td>\n",
       "      <td>2.250000</td>\n",
       "    </tr>\n",
       "    <tr>\n",
       "      <th>8.000000</th>\n",
       "      <td>14</td>\n",
       "      <td>0.666667</td>\n",
       "      <td>104.207737</td>\n",
       "      <td>4.962273</td>\n",
       "      <td>214.000000</td>\n",
       "      <td>10.190476</td>\n",
       "      <td>26</td>\n",
       "      <td>1.238095</td>\n",
       "    </tr>\n",
       "    <tr>\n",
       "      <th>9.000000</th>\n",
       "      <td>7</td>\n",
       "      <td>0.411765</td>\n",
       "      <td>55.690000</td>\n",
       "      <td>3.275882</td>\n",
       "      <td>67.000000</td>\n",
       "      <td>3.941176</td>\n",
       "      <td>34</td>\n",
       "      <td>2.000000</td>\n",
       "    </tr>\n",
       "    <tr>\n",
       "      <th>10.000000</th>\n",
       "      <td>10</td>\n",
       "      <td>0.333333</td>\n",
       "      <td>118.687737</td>\n",
       "      <td>3.956258</td>\n",
       "      <td>102.304432</td>\n",
       "      <td>3.410148</td>\n",
       "      <td>45</td>\n",
       "      <td>1.500000</td>\n",
       "    </tr>\n",
       "    <tr>\n",
       "      <th>11.000000</th>\n",
       "      <td>10</td>\n",
       "      <td>0.357143</td>\n",
       "      <td>118.280000</td>\n",
       "      <td>4.224286</td>\n",
       "      <td>158.000000</td>\n",
       "      <td>5.642857</td>\n",
       "      <td>28</td>\n",
       "      <td>1.000000</td>\n",
       "    </tr>\n",
       "    <tr>\n",
       "      <th>12.000000</th>\n",
       "      <td>130</td>\n",
       "      <td>0.656566</td>\n",
       "      <td>1064.767737</td>\n",
       "      <td>5.377615</td>\n",
       "      <td>867.000000</td>\n",
       "      <td>4.378788</td>\n",
       "      <td>208</td>\n",
       "      <td>1.050505</td>\n",
       "    </tr>\n",
       "    <tr>\n",
       "      <th>12.557471</th>\n",
       "      <td>3</td>\n",
       "      <td>1.000000</td>\n",
       "      <td>40.850000</td>\n",
       "      <td>13.616667</td>\n",
       "      <td>63.000000</td>\n",
       "      <td>21.000000</td>\n",
       "      <td>0</td>\n",
       "      <td>0.000000</td>\n",
       "    </tr>\n",
       "    <tr>\n",
       "      <th>13.000000</th>\n",
       "      <td>17</td>\n",
       "      <td>0.435897</td>\n",
       "      <td>216.345474</td>\n",
       "      <td>5.547320</td>\n",
       "      <td>210.152216</td>\n",
       "      <td>5.388518</td>\n",
       "      <td>32</td>\n",
       "      <td>0.820513</td>\n",
       "    </tr>\n",
       "    <tr>\n",
       "      <th>14.000000</th>\n",
       "      <td>42</td>\n",
       "      <td>0.792453</td>\n",
       "      <td>338.583211</td>\n",
       "      <td>6.388362</td>\n",
       "      <td>330.152216</td>\n",
       "      <td>6.229287</td>\n",
       "      <td>41</td>\n",
       "      <td>0.773585</td>\n",
       "    </tr>\n",
       "    <tr>\n",
       "      <th>15.000000</th>\n",
       "      <td>13</td>\n",
       "      <td>0.619048</td>\n",
       "      <td>132.750000</td>\n",
       "      <td>6.321429</td>\n",
       "      <td>116.304432</td>\n",
       "      <td>5.538306</td>\n",
       "      <td>28</td>\n",
       "      <td>1.333333</td>\n",
       "    </tr>\n",
       "    <tr>\n",
       "      <th>16.000000</th>\n",
       "      <td>45</td>\n",
       "      <td>0.671642</td>\n",
       "      <td>535.010000</td>\n",
       "      <td>7.985224</td>\n",
       "      <td>277.000000</td>\n",
       "      <td>4.134328</td>\n",
       "      <td>43</td>\n",
       "      <td>0.641791</td>\n",
       "    </tr>\n",
       "    <tr>\n",
       "      <th>17.000000</th>\n",
       "      <td>11</td>\n",
       "      <td>0.916667</td>\n",
       "      <td>136.120000</td>\n",
       "      <td>11.343333</td>\n",
       "      <td>101.000000</td>\n",
       "      <td>8.416667</td>\n",
       "      <td>13</td>\n",
       "      <td>1.083333</td>\n",
       "    </tr>\n",
       "    <tr>\n",
       "      <th>18.000000</th>\n",
       "      <td>7</td>\n",
       "      <td>0.388889</td>\n",
       "      <td>177.920000</td>\n",
       "      <td>9.884444</td>\n",
       "      <td>66.000000</td>\n",
       "      <td>3.666667</td>\n",
       "      <td>10</td>\n",
       "      <td>0.555556</td>\n",
       "    </tr>\n",
       "  </tbody>\n",
       "</table>\n",
       "</div>"
      ],
      "text/plain": [
       "                   married            hourly_wage             \\\n",
       "                       sum      mean          sum       mean   \n",
       "years_in_education                                             \n",
       "0.000000                 1  0.500000     7.060000   3.530000   \n",
       "2.000000                 1  1.000000     3.750000   3.750000   \n",
       "3.000000                 0  0.000000     2.920000   2.920000   \n",
       "4.000000                 3  1.000000     9.510000   3.170000   \n",
       "5.000000                 1  1.000000     2.900000   2.900000   \n",
       "6.000000                 4  0.666667    23.910000   3.985000   \n",
       "7.000000                 2  0.500000    17.550000   4.387500   \n",
       "8.000000                14  0.666667   104.207737   4.962273   \n",
       "9.000000                 7  0.411765    55.690000   3.275882   \n",
       "10.000000               10  0.333333   118.687737   3.956258   \n",
       "11.000000               10  0.357143   118.280000   4.224286   \n",
       "12.000000              130  0.656566  1064.767737   5.377615   \n",
       "12.557471                3  1.000000    40.850000  13.616667   \n",
       "13.000000               17  0.435897   216.345474   5.547320   \n",
       "14.000000               42  0.792453   338.583211   6.388362   \n",
       "15.000000               13  0.619048   132.750000   6.321429   \n",
       "16.000000               45  0.671642   535.010000   7.985224   \n",
       "17.000000               11  0.916667   136.120000  11.343333   \n",
       "18.000000                7  0.388889   177.920000   9.884444   \n",
       "\n",
       "                   years_in_employment            num_dependents            \n",
       "                                   sum       mean            sum      mean  \n",
       "years_in_education                                                          \n",
       "0.000000                     10.000000   5.000000              2  1.000000  \n",
       "2.000000                     13.000000  13.000000              0  0.000000  \n",
       "3.000000                     30.000000  30.000000              0  0.000000  \n",
       "4.000000                     15.000000   5.000000              6  2.000000  \n",
       "5.000000                      0.000000   0.000000              5  5.000000  \n",
       "6.000000                     26.000000   4.333333             18  3.000000  \n",
       "7.000000                     39.000000   9.750000              9  2.250000  \n",
       "8.000000                    214.000000  10.190476             26  1.238095  \n",
       "9.000000                     67.000000   3.941176             34  2.000000  \n",
       "10.000000                   102.304432   3.410148             45  1.500000  \n",
       "11.000000                   158.000000   5.642857             28  1.000000  \n",
       "12.000000                   867.000000   4.378788            208  1.050505  \n",
       "12.557471                    63.000000  21.000000              0  0.000000  \n",
       "13.000000                   210.152216   5.388518             32  0.820513  \n",
       "14.000000                   330.152216   6.229287             41  0.773585  \n",
       "15.000000                   116.304432   5.538306             28  1.333333  \n",
       "16.000000                   277.000000   4.134328             43  0.641791  \n",
       "17.000000                   101.000000   8.416667             13  1.083333  \n",
       "18.000000                    66.000000   3.666667             10  0.555556  "
      ]
     },
     "execution_count": 72,
     "metadata": {},
     "output_type": "execute_result"
    }
   ],
   "source": [
    "df.groupby('years_in_education').agg([np.sum, np.mean])"
   ]
  },
  {
   "cell_type": "code",
   "execution_count": 73,
   "id": "42988852",
   "metadata": {},
   "outputs": [
    {
     "data": {
      "text/plain": [
       "years_in_education\n",
       "0.000000      3.530000\n",
       "2.000000      3.750000\n",
       "3.000000      2.920000\n",
       "4.000000      3.170000\n",
       "5.000000      2.900000\n",
       "6.000000      3.985000\n",
       "7.000000      4.387500\n",
       "8.000000      4.962273\n",
       "9.000000      3.275882\n",
       "10.000000     3.956258\n",
       "11.000000     4.224286\n",
       "12.000000     5.377615\n",
       "12.557471    13.616667\n",
       "13.000000     5.547320\n",
       "14.000000     6.388362\n",
       "15.000000     6.321429\n",
       "16.000000     7.985224\n",
       "17.000000    11.343333\n",
       "18.000000     9.884444\n",
       "Name: hourly_wage, dtype: float64"
      ]
     },
     "execution_count": 73,
     "metadata": {},
     "output_type": "execute_result"
    }
   ],
   "source": [
    "df.groupby('years_in_education').mean()['hourly_wage']"
   ]
  },
  {
   "cell_type": "code",
   "execution_count": 74,
   "id": "a30533c3",
   "metadata": {},
   "outputs": [
    {
     "data": {
      "text/plain": [
       "Index(['married', 'hourly_wage', 'years_in_education', 'years_in_employment',\n",
       "       'num_dependents', 'gender', 'race'],\n",
       "      dtype='object')"
      ]
     },
     "execution_count": 74,
     "metadata": {},
     "output_type": "execute_result"
    }
   ],
   "source": [
    "df.columns"
   ]
  },
  {
   "cell_type": "code",
   "execution_count": 75,
   "id": "dd80a0d1",
   "metadata": {
    "scrolled": false
   },
   "outputs": [
    {
     "data": {
      "image/png": "[encoded data removed]",
      "text/plain": [
       "<Figure size 720x576 with 4 Axes>"
      ]
     },
     "metadata": {
      "needs_background": "light"
     },
     "output_type": "display_data"
    }
   ],
   "source": [
    "plt.subplot(221)\n",
    "df.married.value_counts(normalize=True).plot(kind = 'bar', title = \"married\",figsize=(10,8))\n",
    "plt.tight_layout(pad=0.5)\n",
    "plt.subplot(222)\n",
    "df.gender.value_counts(normalize=True).plot(kind = 'bar',title = \"gender\")\n",
    "plt.tight_layout(pad=0.5)\n",
    "plt.subplot(223)\n",
    "df.race.value_counts(normalize=True).plot(kind = 'bar',title = \"race\")\n",
    "plt.tight_layout(pad=0.5)\n",
    "plt.subplot(224)\n",
    "df.num_dependents.value_counts(normalize=True).plot(kind = 'bar',title = \"num_dependents\")\n",
    "plt.tight_layout(pad=0.5)"
   ]
  },
  {
   "cell_type": "code",
   "execution_count": 76,
   "id": "b752090c",
   "metadata": {
    "scrolled": true
   },
   "outputs": [
    {
     "data": {
      "text/plain": [
       "<AxesSubplot:xlabel='gender', ylabel='count'>"
      ]
     },
     "execution_count": 76,
     "metadata": {},
     "output_type": "execute_result"
    },
    {
     "data": {
      "image/png": "[encoded data removed]",
      "text/plain": [
       "<Figure size 864x648 with 3 Axes>"
      ]
     },
     "metadata": {},
     "output_type": "display_data"
    }
   ],
   "source": [
    "sns.set(rc={'figure.figsize':(12,9)})\n",
    "plt.subplot(231)\n",
    "sns.countplot(x=\"gender\", hue='married', data=df)\n",
    "plt.subplot(232)\n",
    "sns.countplot(x=\"gender\", hue='num_dependents', data=df)\n",
    "plt.subplot(233)\n",
    "sns.countplot(x=\"gender\", hue='race', data=df)"
   ]
  },
  {
   "cell_type": "markdown",
   "id": "12e76c23",
   "metadata": {},
   "source": [
    "## Q10\n",
    "       Implement a linear regression model and interpret its output."
   ]
  },
  {
   "cell_type": "code",
   "execution_count": 77,
   "id": "047e5276",
   "metadata": {},
   "outputs": [],
   "source": [
    "# changing the data types of married and number of dependents from float to integer\n",
    "df['married'] = df['married'].astype('int')\n",
    "df['num_dependents'] = df['num_dependents'].astype('int')"
   ]
  },
  {
   "cell_type": "code",
   "execution_count": 78,
   "id": "2c4b28cb",
   "metadata": {},
   "outputs": [
    {
     "data": {
      "text/plain": [
       "Index(['married', 'hourly_wage', 'years_in_education', 'years_in_employment',\n",
       "       'num_dependents', 'gender', 'race'],\n",
       "      dtype='object')"
      ]
     },
     "execution_count": 78,
     "metadata": {},
     "output_type": "execute_result"
    }
   ],
   "source": [
    "df.columns"
   ]
  },
  {
   "cell_type": "code",
   "execution_count": 79,
   "id": "49772645",
   "metadata": {
    "scrolled": true
   },
   "outputs": [],
   "source": [
    "df['race'].replace(to_replace=['nonwhite','white'], value=[0,1],inplace = True)\n",
    "df['gender'].replace(to_replace=['male','female'], value=[0,1],inplace = True)"
   ]
  },
  {
   "cell_type": "code",
   "execution_count": 80,
   "id": "6d458838",
   "metadata": {},
   "outputs": [
    {
     "data": {
      "text/html": [
       "<div>\n",
       "<style scoped>\n",
       "    .dataframe tbody tr th:only-of-type {\n",
       "        vertical-align: middle;\n",
       "    }\n",
       "\n",
       "    .dataframe tbody tr th {\n",
       "        vertical-align: top;\n",
       "    }\n",
       "\n",
       "    .dataframe thead th {\n",
       "        text-align: right;\n",
       "    }\n",
       "</style>\n",
       "<table border=\"1\" class=\"dataframe\">\n",
       "  <thead>\n",
       "    <tr style=\"text-align: right;\">\n",
       "      <th></th>\n",
       "      <th>married</th>\n",
       "      <th>hourly_wage</th>\n",
       "      <th>years_in_education</th>\n",
       "      <th>years_in_employment</th>\n",
       "      <th>num_dependents</th>\n",
       "      <th>gender</th>\n",
       "      <th>race</th>\n",
       "    </tr>\n",
       "  </thead>\n",
       "  <tbody>\n",
       "    <tr>\n",
       "      <th>0</th>\n",
       "      <td>1</td>\n",
       "      <td>3.24</td>\n",
       "      <td>12.0</td>\n",
       "      <td>2.0</td>\n",
       "      <td>3</td>\n",
       "      <td>1</td>\n",
       "      <td>1</td>\n",
       "    </tr>\n",
       "    <tr>\n",
       "      <th>1</th>\n",
       "      <td>0</td>\n",
       "      <td>3.00</td>\n",
       "      <td>11.0</td>\n",
       "      <td>0.0</td>\n",
       "      <td>2</td>\n",
       "      <td>0</td>\n",
       "      <td>1</td>\n",
       "    </tr>\n",
       "    <tr>\n",
       "      <th>2</th>\n",
       "      <td>1</td>\n",
       "      <td>6.00</td>\n",
       "      <td>8.0</td>\n",
       "      <td>28.0</td>\n",
       "      <td>0</td>\n",
       "      <td>0</td>\n",
       "      <td>1</td>\n",
       "    </tr>\n",
       "    <tr>\n",
       "      <th>3</th>\n",
       "      <td>1</td>\n",
       "      <td>5.30</td>\n",
       "      <td>12.0</td>\n",
       "      <td>2.0</td>\n",
       "      <td>1</td>\n",
       "      <td>0</td>\n",
       "      <td>1</td>\n",
       "    </tr>\n",
       "    <tr>\n",
       "      <th>4</th>\n",
       "      <td>1</td>\n",
       "      <td>8.75</td>\n",
       "      <td>16.0</td>\n",
       "      <td>8.0</td>\n",
       "      <td>0</td>\n",
       "      <td>0</td>\n",
       "      <td>1</td>\n",
       "    </tr>\n",
       "  </tbody>\n",
       "</table>\n",
       "</div>"
      ],
      "text/plain": [
       "   married  hourly_wage  years_in_education  years_in_employment  \\\n",
       "0        1         3.24                12.0                  2.0   \n",
       "1        0         3.00                11.0                  0.0   \n",
       "2        1         6.00                 8.0                 28.0   \n",
       "3        1         5.30                12.0                  2.0   \n",
       "4        1         8.75                16.0                  8.0   \n",
       "\n",
       "   num_dependents  gender  race  \n",
       "0               3       1     1  \n",
       "1               2       0     1  \n",
       "2               0       0     1  \n",
       "3               1       0     1  \n",
       "4               0       0     1  "
      ]
     },
     "execution_count": 80,
     "metadata": {},
     "output_type": "execute_result"
    }
   ],
   "source": [
    "df.head()"
   ]
  },
  {
   "cell_type": "code",
   "execution_count": 81,
   "id": "09deb0e5",
   "metadata": {},
   "outputs": [],
   "source": [
    "X = df.drop(['hourly_wage'], axis = 1)\n",
    "y = df['hourly_wage']"
   ]
  },
  {
   "cell_type": "code",
   "execution_count": 82,
   "id": "a4ff773a",
   "metadata": {},
   "outputs": [],
   "source": [
    "from sklearn.model_selection import train_test_split"
   ]
  },
  {
   "cell_type": "code",
   "execution_count": 83,
   "id": "395cdcd8",
   "metadata": {},
   "outputs": [],
   "source": [
    "X_train, X_test, y_train, y_test = train_test_split(X,y, test_size=0.3,random_state=0)"
   ]
  },
  {
   "cell_type": "code",
   "execution_count": 84,
   "id": "dfeb1578",
   "metadata": {},
   "outputs": [
    {
     "data": {
      "text/plain": [
       "(367, 6)"
      ]
     },
     "execution_count": 84,
     "metadata": {},
     "output_type": "execute_result"
    }
   ],
   "source": [
    "X_train.shape"
   ]
  },
  {
   "cell_type": "code",
   "execution_count": 85,
   "id": "eb69e1fe",
   "metadata": {},
   "outputs": [
    {
     "data": {
      "text/plain": [
       "(158, 6)"
      ]
     },
     "execution_count": 85,
     "metadata": {},
     "output_type": "execute_result"
    }
   ],
   "source": [
    "X_test.shape"
   ]
  },
  {
   "cell_type": "code",
   "execution_count": 86,
   "id": "7d9367a3",
   "metadata": {},
   "outputs": [
    {
     "data": {
      "text/plain": [
       "(367,)"
      ]
     },
     "execution_count": 86,
     "metadata": {},
     "output_type": "execute_result"
    }
   ],
   "source": [
    "y_train.shape"
   ]
  },
  {
   "cell_type": "code",
   "execution_count": 87,
   "id": "131bbcf7",
   "metadata": {},
   "outputs": [
    {
     "data": {
      "text/plain": [
       "(158,)"
      ]
     },
     "execution_count": 87,
     "metadata": {},
     "output_type": "execute_result"
    }
   ],
   "source": [
    "y_test.shape"
   ]
  },
  {
   "cell_type": "code",
   "execution_count": 88,
   "id": "e969b0ef",
   "metadata": {},
   "outputs": [
    {
     "data": {
      "text/plain": [
       "LinearRegression()"
      ]
     },
     "execution_count": 88,
     "metadata": {},
     "output_type": "execute_result"
    }
   ],
   "source": [
    "from sklearn.linear_model import LinearRegression\n",
    "lm = LinearRegression()\n",
    "lm.fit(X_train,y_train)"
   ]
  },
  {
   "cell_type": "code",
   "execution_count": 89,
   "id": "c4efed03",
   "metadata": {},
   "outputs": [
    {
     "name": "stdout",
     "output_type": "stream",
     "text": [
      "-1.3643862484580689\n"
     ]
    }
   ],
   "source": [
    "print(lm.intercept_)"
   ]
  },
  {
   "cell_type": "code",
   "execution_count": 90,
   "id": "744de000",
   "metadata": {},
   "outputs": [
    {
     "name": "stdout",
     "output_type": "stream",
     "text": [
      "[ 0.61510046  0.50757997  0.18468209  0.16747785 -1.37409989  0.20975567]\n"
     ]
    }
   ],
   "source": [
    "print(lm.coef_)"
   ]
  },
  {
   "cell_type": "code",
   "execution_count": 91,
   "id": "afc237ed",
   "metadata": {},
   "outputs": [
    {
     "data": {
      "text/html": [
       "<div>\n",
       "<style scoped>\n",
       "    .dataframe tbody tr th:only-of-type {\n",
       "        vertical-align: middle;\n",
       "    }\n",
       "\n",
       "    .dataframe tbody tr th {\n",
       "        vertical-align: top;\n",
       "    }\n",
       "\n",
       "    .dataframe thead th {\n",
       "        text-align: right;\n",
       "    }\n",
       "</style>\n",
       "<table border=\"1\" class=\"dataframe\">\n",
       "  <thead>\n",
       "    <tr style=\"text-align: right;\">\n",
       "      <th></th>\n",
       "      <th>Coefficient</th>\n",
       "    </tr>\n",
       "  </thead>\n",
       "  <tbody>\n",
       "    <tr>\n",
       "      <th>married</th>\n",
       "      <td>0.615100</td>\n",
       "    </tr>\n",
       "    <tr>\n",
       "      <th>years_in_education</th>\n",
       "      <td>0.507580</td>\n",
       "    </tr>\n",
       "    <tr>\n",
       "      <th>years_in_employment</th>\n",
       "      <td>0.184682</td>\n",
       "    </tr>\n",
       "    <tr>\n",
       "      <th>num_dependents</th>\n",
       "      <td>0.167478</td>\n",
       "    </tr>\n",
       "    <tr>\n",
       "      <th>gender</th>\n",
       "      <td>-1.374100</td>\n",
       "    </tr>\n",
       "    <tr>\n",
       "      <th>race</th>\n",
       "      <td>0.209756</td>\n",
       "    </tr>\n",
       "  </tbody>\n",
       "</table>\n",
       "</div>"
      ],
      "text/plain": [
       "                     Coefficient\n",
       "married                 0.615100\n",
       "years_in_education      0.507580\n",
       "years_in_employment     0.184682\n",
       "num_dependents          0.167478\n",
       "gender                 -1.374100\n",
       "race                    0.209756"
      ]
     },
     "execution_count": 91,
     "metadata": {},
     "output_type": "execute_result"
    }
   ],
   "source": [
    "coeff_df = pd.DataFrame(lm.coef_,X.columns,columns=['Coefficient'])\n",
    "coeff_df"
   ]
  },
  {
   "cell_type": "code",
   "execution_count": 92,
   "id": "4a75cec5",
   "metadata": {},
   "outputs": [],
   "source": [
    "y_pred = lm.predict(X_test)"
   ]
  },
  {
   "cell_type": "code",
   "execution_count": 93,
   "id": "312c9369",
   "metadata": {},
   "outputs": [
    {
     "data": {
      "text/html": [
       "<div>\n",
       "<style scoped>\n",
       "    .dataframe tbody tr th:only-of-type {\n",
       "        vertical-align: middle;\n",
       "    }\n",
       "\n",
       "    .dataframe tbody tr th {\n",
       "        vertical-align: top;\n",
       "    }\n",
       "\n",
       "    .dataframe thead th {\n",
       "        text-align: right;\n",
       "    }\n",
       "</style>\n",
       "<table border=\"1\" class=\"dataframe\">\n",
       "  <thead>\n",
       "    <tr style=\"text-align: right;\">\n",
       "      <th></th>\n",
       "      <th>Actual</th>\n",
       "      <th>Predicted</th>\n",
       "    </tr>\n",
       "  </thead>\n",
       "  <tbody>\n",
       "    <tr>\n",
       "      <th>208</th>\n",
       "      <td>2.70</td>\n",
       "      <td>2.206967</td>\n",
       "    </tr>\n",
       "    <tr>\n",
       "      <th>15</th>\n",
       "      <td>7.50</td>\n",
       "      <td>4.177330</td>\n",
       "    </tr>\n",
       "    <tr>\n",
       "      <th>229</th>\n",
       "      <td>8.33</td>\n",
       "      <td>12.043382</td>\n",
       "    </tr>\n",
       "    <tr>\n",
       "      <th>298</th>\n",
       "      <td>3.00</td>\n",
       "      <td>5.839469</td>\n",
       "    </tr>\n",
       "    <tr>\n",
       "      <th>451</th>\n",
       "      <td>1.50</td>\n",
       "      <td>4.696967</td>\n",
       "    </tr>\n",
       "    <tr>\n",
       "      <th>...</th>\n",
       "      <td>...</td>\n",
       "      <td>...</td>\n",
       "    </tr>\n",
       "    <tr>\n",
       "      <th>520</th>\n",
       "      <td>15.00</td>\n",
       "      <td>6.911969</td>\n",
       "    </tr>\n",
       "    <tr>\n",
       "      <th>196</th>\n",
       "      <td>9.05</td>\n",
       "      <td>6.423227</td>\n",
       "    </tr>\n",
       "    <tr>\n",
       "      <th>162</th>\n",
       "      <td>4.50</td>\n",
       "      <td>4.916058</td>\n",
       "    </tr>\n",
       "    <tr>\n",
       "      <th>55</th>\n",
       "      <td>3.40</td>\n",
       "      <td>5.944709</td>\n",
       "    </tr>\n",
       "    <tr>\n",
       "      <th>194</th>\n",
       "      <td>6.25</td>\n",
       "      <td>5.567476</td>\n",
       "    </tr>\n",
       "  </tbody>\n",
       "</table>\n",
       "<p>158 rows × 2 columns</p>\n",
       "</div>"
      ],
      "text/plain": [
       "     Actual  Predicted\n",
       "208    2.70   2.206967\n",
       "15     7.50   4.177330\n",
       "229    8.33  12.043382\n",
       "298    3.00   5.839469\n",
       "451    1.50   4.696967\n",
       "..      ...        ...\n",
       "520   15.00   6.911969\n",
       "196    9.05   6.423227\n",
       "162    4.50   4.916058\n",
       "55     3.40   5.944709\n",
       "194    6.25   5.567476\n",
       "\n",
       "[158 rows x 2 columns]"
      ]
     },
     "execution_count": 93,
     "metadata": {},
     "output_type": "execute_result"
    }
   ],
   "source": [
    "df = pd.DataFrame({'Actual': y_test, 'Predicted': y_pred})\n",
    "df"
   ]
  },
  {
   "cell_type": "code",
   "execution_count": 94,
   "id": "46573f4d",
   "metadata": {},
   "outputs": [
    {
     "data": {
      "text/plain": [
       "0.3732792930994908"
      ]
     },
     "execution_count": 94,
     "metadata": {},
     "output_type": "execute_result"
    }
   ],
   "source": [
    "from sklearn.metrics import r2_score\n",
    "r2_score(y_test,y_pred)"
   ]
  },
  {
   "cell_type": "code",
   "execution_count": 95,
   "id": "d2450265",
   "metadata": {},
   "outputs": [],
   "source": [
    "from sklearn import metrics"
   ]
  },
  {
   "cell_type": "code",
   "execution_count": 96,
   "id": "a9fc4dc8",
   "metadata": {},
   "outputs": [
    {
     "name": "stdout",
     "output_type": "stream",
     "text": [
      "Mean Absolute Error: 2.1454777394712035\n",
      "Mean Squared Error: 7.571695692561896\n",
      "Root Mean Squared Error: 2.7516714361569217\n"
     ]
    }
   ],
   "source": [
    "print('Mean Absolute Error:', metrics.mean_absolute_error(y_test, y_pred))  \n",
    "print('Mean Squared Error:', metrics.mean_squared_error(y_test, y_pred))  \n",
    "print('Root Mean Squared Error:', np.sqrt(metrics.mean_squared_error(y_test, y_pred)))"
   ]
  },
  {
   "cell_type": "markdown",
   "id": "db224559",
   "metadata": {},
   "source": [
    "#### PROBLEM STATEMENT\n",
    "1)We have a low R-squared value which implies that our independent variable is not explaining much in the variation of our dependent variable - regardless of the variable significance, this is letting us know that the identified independent variable, even though significant, is not accounting for much of the mean of the dependent variable. \n",
    "\n",
    "2)Correlation represents the proportion of variation in Y explained by X, the above dataset has a very low correlation which affects the linear regression model.\n",
    "\n",
    "#### POSSIBLE SOLUTIONS\n",
    "1)If we are provided with more inputs(i.e data sets, we could get a better model)\n",
    "\n",
    "2)Other models asides linear regression we could get a better model."
   ]
  },
  {
   "cell_type": "code",
   "execution_count": null,
   "id": "d42c6565",
   "metadata": {},
   "outputs": [],
   "source": []
  },
  {
   "cell_type": "code",
   "execution_count": null,
   "id": "ad3f8817",
   "metadata": {},
   "outputs": [],
   "source": []
  }
 ],
 "metadata": {
  "kernelspec": {
   "display_name": "Python 3",
   "language": "python",
   "name": "python3"
  },
  "language_info": {
   "codemirror_mode": {
    "name": "ipython",
    "version": 3
   },
   "file_extension": ".py",
   "mimetype": "text/x-python",
   "name": "python",
   "nbconvert_exporter": "python",
   "pygments_lexer": "ipython3",
   "version": "3.8.8"
  }
 },
 "nbformat": 4,
 "nbformat_minor": 5
}
